{
  "nbformat": 4,
  "nbformat_minor": 0,
  "metadata": {
    "colab": {
      "provenance": [],
      "toc_visible": true,
      "mount_file_id": "11xzOHnk0bmJfHMcMx_Qll7mpXzdAc6kH",
      "authorship_tag": "ABX9TyNNxnRXw12vItKVZ0K7gS6U",
      "include_colab_link": true
    },
    "kernelspec": {
      "name": "python3",
      "display_name": "Python 3"
    },
    "language_info": {
      "name": "python"
    }
  },
  "cells": [
    {
      "cell_type": "markdown",
      "metadata": {
        "id": "view-in-github",
        "colab_type": "text"
      },
      "source": [
        "<a href=\"https://colab.research.google.com/github/CHITANDAy/3217/blob/main/COMP3217.ipynb\" target=\"_parent\"><img src=\"https://colab.research.google.com/assets/colab-badge.svg\" alt=\"Open In Colab\"/></a>"
      ]
    },
    {
      "cell_type": "markdown",
      "source": [
        "Part A"
      ],
      "metadata": {
        "id": "W-yGU9iQGMIr"
      }
    },
    {
      "cell_type": "code",
      "execution_count": 5,
      "metadata": {
        "id": "vLrz6gFQfoXA",
        "colab": {
          "base_uri": "https://localhost:8080/"
        },
        "outputId": "a76f46c5-0bf7-41f7-c546-6c5c7c95dffd"
      },
      "outputs": [
        {
          "output_type": "stream",
          "name": "stdout",
          "text": [
            "Drive already mounted at /content/drive; to attempt to forcibly remount, call drive.mount(\"/content/drive\", force_remount=True).\n"
          ]
        }
      ],
      "source": [
        "# Import the required libraries\n",
        "\n",
        "import matplotlib.pyplot as plt\n",
        "from sklearn.model_selection import train_test_split\n",
        "from sklearn.svm import SVC\n",
        "from sklearn.metrics import accuracy_score\n",
        "from sklearn.preprocessing import StandardScaler\n",
        "\n",
        "import numpy as np\n",
        "import pandas as pd\n",
        "\n",
        "from google.colab import drive\n",
        "\n",
        "from google.colab import files\n",
        "\n",
        "import io\n",
        "\n",
        "drive.mount('/content/drive')\n",
        "\n",
        "# uploaded = files.upload()\n",
        "#file_path = '/content/drive/MyDrive/TrainingDataBinary.csv'\n",
        "\n",
        "#data = pd.read_csv(file_path)\n",
        "\n",
        "#print(data.head)\n",
        "#print(data)\n",
        "\n",
        "\n"
      ]
    }
  ]
}