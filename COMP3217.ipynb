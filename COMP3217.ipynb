{
  "nbformat": 4,
  "nbformat_minor": 0,
  "metadata": {
    "colab": {
      "provenance": [],
      "collapsed_sections": [
        "mU-MRoCcJ8LX",
        "fLVEAeubrxM-",
        "KLFzF-9N15_Z",
        "zwfl5awXqe3F",
        "1oy_1s300UnX"
      ],
      "mount_file_id": "11xzOHnk0bmJfHMcMx_Qll7mpXzdAc6kH",
      "authorship_tag": "ABX9TyO+bPd2WaKm+i7cULJFBEvn",
      "include_colab_link": true
    },
    "kernelspec": {
      "name": "python3",
      "display_name": "Python 3"
    },
    "language_info": {
      "name": "python"
    }
  },
  "cells": [
    {
      "cell_type": "markdown",
      "metadata": {
        "id": "view-in-github",
        "colab_type": "text"
      },
      "source": [
        "<a href=\"https://colab.research.google.com/github/CHITANDAy/3217/blob/main/COMP3217.ipynb\" target=\"_parent\"><img src=\"https://colab.research.google.com/assets/colab-badge.svg\" alt=\"Open In Colab\"/></a>"
      ]
    },
    {
      "cell_type": "markdown",
      "source": [
        "# **COMP3217 Detection of Attacks on Power System Grids**"
      ],
      "metadata": {
        "id": "BSysxDiGQI3i"
      }
    },
    {
      "cell_type": "markdown",
      "source": [
        "Qihao Zhou 35161094"
      ],
      "metadata": {
        "id": "i5h_v0qbQPoR"
      }
    },
    {
      "cell_type": "markdown",
      "source": [
        "# Part A - Use XGB\n",
        "\n"
      ],
      "metadata": {
        "id": "KCbSPtR00KsB"
      }
    },
    {
      "cell_type": "markdown",
      "source": [
        "By comparing to Support Vector Machine (SVM) and Extreme Gradient Boosting (XGB).\n",
        "We found XGB had the highest accuracy. The final prediction will be made by xgb model.\n"
      ],
      "metadata": {
        "id": "DTsOFQNxpE4f"
      }
    },
    {
      "cell_type": "markdown",
      "source": [
        "# File Upload - You must first upload the training data and testing data via this code block."
      ],
      "metadata": {
        "id": "mU-MRoCcJ8LX"
      }
    },
    {
      "cell_type": "markdown",
      "source": [
        "Please upload all necessary files here (total 4 files), and keep their name as:\n",
        "\n",
        "TestingDataBinary.csv\n",
        "\n",
        "TestingDataMulti.csv\n",
        "\n",
        "TrainingDataBinary.csv\n",
        "\n",
        "TrainingDataMulti.csv"
      ],
      "metadata": {
        "id": "juqgpnxRKL9y"
      }
    },
    {
      "cell_type": "code",
      "source": [
        "from google.colab import files\n",
        "uploaded = files.upload()"
      ],
      "metadata": {
        "id": "KMe08osTJ5I1"
      },
      "execution_count": null,
      "outputs": []
    },
    {
      "cell_type": "markdown",
      "source": [
        "After upload completed, you shall see files exist at right hand size via clicking the file bar like this.(If you doesn't see it, fresh might be helpful)\n",
        "![image.png](data:image/png;base64,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)\n"
      ],
      "metadata": {
        "id": "AJ6CmvDaMaxs"
      }
    },
    {
      "cell_type": "markdown",
      "source": [
        "# * XGB - (Run this code block to obtain the Prediction for Part A)!!!!"
      ],
      "metadata": {
        "id": "2vC5AVx4iJPM"
      }
    },
    {
      "cell_type": "code",
      "source": [
        "# Install required Library\n",
        "!pip install scikit-optimize\n",
        "!pip install flaml\n",
        "!pip install xgboost\n",
        "# Import the required libraries\n",
        "\n",
        "from sklearn.model_selection import train_test_split\n",
        "from sklearn.metrics import accuracy_score, precision_score, recall_score, f1_score, confusion_matrix\n",
        "from sklearn.preprocessing import StandardScaler\n",
        "from sklearn.model_selection import cross_val_score\n",
        "import xgboost as xgb\n",
        "from flaml import AutoML\n",
        "from xgboost import XGBClassifier\n",
        "\n",
        "import numpy as np\n",
        "import pandas as pd\n",
        "\n",
        "\n",
        "# Load dataset\n",
        "# train_data = pd.read_csv('https://raw.githubusercontent.com/CHITANDAy/3217/main/TrainingDataBinary.csv')\n",
        "# test_data = pd.read_csv('https://raw.githubusercontent.com/CHITANDAy/3217/main/TestingDataBinary.csv')\n",
        "train_data = pd.read_csv('/content/TrainingDataBinary.csv')\n",
        "test_data = pd.read_csv('/content/TestingDataBinary.csv')\n",
        "\n",
        "# Separate features and labels\n",
        "X = train_data.iloc[:, :-1]\n",
        "y = train_data.iloc[:, -1]\n",
        "\n",
        "# Standardize the data\n",
        "scaler = StandardScaler()\n",
        "X_scaled = scaler.fit_transform(X)\n",
        "\n",
        "# Split the data\n",
        "# Reserver 20% of the Training set as Validation set\n",
        "X_train, X_test, y_train, y_test = train_test_split(X_scaled, y, test_size=0.2, random_state=30)\n",
        "\n",
        "# Train the ML model\n",
        "xgb = XGBClassifier(\n",
        "    n_estimators=5300,\n",
        "    max_depth=9,\n",
        "    min_child_weight=2.132965565210401,\n",
        "    learning_rate=0.16329091261710665,\n",
        "    subsample=0.8632075728939809,\n",
        "    colsample_bylevel=0.9000151742140279,\n",
        "    colsample_bytree=0.5944678975369968,\n",
        "    reg_alpha=0.004469505961149017,\n",
        "    reg_lambda=1.054892921445541,\n",
        "    objective='binary:logistic',\n",
        "    random_state=30,\n",
        "    use_label_encoder=False\n",
        ")\n",
        "\n",
        "xgb.fit(X_train, y_train)\n",
        "\n",
        "# Validation\n",
        "y_pred = xgb.predict(X_test)\n",
        "accuracy = accuracy_score(y_test, y_pred)\n",
        "precision = precision_score(y_test, y_pred)\n",
        "recall = recall_score(y_test, y_pred)\n",
        "f1 = f1_score(y_test, y_pred)\n",
        "conf_matrix = confusion_matrix(y_test, y_pred)\n",
        "\n",
        "\n",
        "print(\"Accuracy: \", accuracy)\n",
        "print(\"Precision: \", precision)\n",
        "print(\"Recall: \", recall)\n",
        "print(\"F1 score: \", f1)\n",
        "print(\"Confusion Matrix: \", conf_matrix)\n",
        "\n",
        "# Standardize the test dataset\n",
        "X_test_scaled = scaler.transform(test_data)\n",
        "\n",
        "# Make Prediction and save to csv files.\n",
        "\n",
        "test_pred = xgb.predict(X_test_scaled)\n",
        "\n",
        "test_data['marker'] = test_pred\n",
        "test_data.to_csv('/content/TestingResultsBinary.csv', index=False)\n",
        "\n"
      ],
      "metadata": {
        "colab": {
          "base_uri": "https://localhost:8080/"
        },
        "id": "W3X5WFTxi0r0",
        "outputId": "4fa2f51e-932e-4595-e07e-d9570981e841"
      },
      "execution_count": null,
      "outputs": [
        {
          "output_type": "stream",
          "name": "stdout",
          "text": [
            "Requirement already satisfied: scikit-optimize in /usr/local/lib/python3.10/dist-packages (0.10.1)\n",
            "Requirement already satisfied: joblib>=0.11 in /usr/local/lib/python3.10/dist-packages (from scikit-optimize) (1.4.0)\n",
            "Requirement already satisfied: pyaml>=16.9 in /usr/local/lib/python3.10/dist-packages (from scikit-optimize) (24.4.0)\n",
            "Requirement already satisfied: numpy>=1.20.3 in /usr/local/lib/python3.10/dist-packages (from scikit-optimize) (1.25.2)\n",
            "Requirement already satisfied: scipy>=1.1.0 in /usr/local/lib/python3.10/dist-packages (from scikit-optimize) (1.11.4)\n",
            "Requirement already satisfied: scikit-learn>=1.0.0 in /usr/local/lib/python3.10/dist-packages (from scikit-optimize) (1.2.2)\n",
            "Requirement already satisfied: packaging>=21.3 in /usr/local/lib/python3.10/dist-packages (from scikit-optimize) (24.0)\n",
            "Requirement already satisfied: PyYAML in /usr/local/lib/python3.10/dist-packages (from pyaml>=16.9->scikit-optimize) (6.0.1)\n",
            "Requirement already satisfied: threadpoolctl>=2.0.0 in /usr/local/lib/python3.10/dist-packages (from scikit-learn>=1.0.0->scikit-optimize) (3.5.0)\n",
            "Requirement already satisfied: flaml in /usr/local/lib/python3.10/dist-packages (2.1.2)\n",
            "Requirement already satisfied: NumPy>=1.17 in /usr/local/lib/python3.10/dist-packages (from flaml) (1.25.2)\n",
            "Requirement already satisfied: xgboost in /usr/local/lib/python3.10/dist-packages (2.0.3)\n",
            "Requirement already satisfied: numpy in /usr/local/lib/python3.10/dist-packages (from xgboost) (1.25.2)\n",
            "Requirement already satisfied: scipy in /usr/local/lib/python3.10/dist-packages (from xgboost) (1.11.4)\n",
            "Accuracy:  0.9825\n",
            "Precision:  0.988313856427379\n",
            "Recall:  0.976897689768977\n",
            "F1 score:  0.9825726141078839\n",
            "Confusion Matrix:  [[587   7]\n",
            " [ 14 592]]\n"
          ]
        }
      ]
    },
    {
      "cell_type": "markdown",
      "source": [
        "After the running you shall see the output prediction file.\n",
        "\n",
        "![image.png](data:image/png;base64,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)"
      ],
      "metadata": {
        "id": "A7wqY42lN_as"
      }
    },
    {
      "cell_type": "markdown",
      "source": [
        "# SVM Method - Using SVM via Grid search find regulation parameter \"C\" and Gamma based on Radial Basis Function(rbf) kernel.     No need to Execute (You can test and run this part code. This is not the model for prediction)"
      ],
      "metadata": {
        "id": "fLVEAeubrxM-"
      }
    },
    {
      "cell_type": "code",
      "execution_count": null,
      "metadata": {
        "id": "vLrz6gFQfoXA",
        "colab": {
          "base_uri": "https://localhost:8080/"
        },
        "outputId": "bdcb8770-738c-4188-afd9-4e7bd3ae887e"
      },
      "outputs": [
        {
          "output_type": "stream",
          "name": "stdout",
          "text": [
            "Requirement already satisfied: scikit-optimize in /usr/local/lib/python3.10/dist-packages (0.10.1)\n",
            "Requirement already satisfied: joblib>=0.11 in /usr/local/lib/python3.10/dist-packages (from scikit-optimize) (1.4.0)\n",
            "Requirement already satisfied: pyaml>=16.9 in /usr/local/lib/python3.10/dist-packages (from scikit-optimize) (24.4.0)\n",
            "Requirement already satisfied: numpy>=1.20.3 in /usr/local/lib/python3.10/dist-packages (from scikit-optimize) (1.25.2)\n",
            "Requirement already satisfied: scipy>=1.1.0 in /usr/local/lib/python3.10/dist-packages (from scikit-optimize) (1.11.4)\n",
            "Requirement already satisfied: scikit-learn>=1.0.0 in /usr/local/lib/python3.10/dist-packages (from scikit-optimize) (1.2.2)\n",
            "Requirement already satisfied: packaging>=21.3 in /usr/local/lib/python3.10/dist-packages (from scikit-optimize) (24.0)\n",
            "Requirement already satisfied: PyYAML in /usr/local/lib/python3.10/dist-packages (from pyaml>=16.9->scikit-optimize) (6.0.1)\n",
            "Requirement already satisfied: threadpoolctl>=2.0.0 in /usr/local/lib/python3.10/dist-packages (from scikit-learn>=1.0.0->scikit-optimize) (3.5.0)\n",
            "Requirement already satisfied: flaml in /usr/local/lib/python3.10/dist-packages (2.1.2)\n",
            "Requirement already satisfied: NumPy>=1.17 in /usr/local/lib/python3.10/dist-packages (from flaml) (1.25.2)\n",
            "Requirement already satisfied: xgboost in /usr/local/lib/python3.10/dist-packages (2.0.3)\n",
            "Requirement already satisfied: numpy in /usr/local/lib/python3.10/dist-packages (from xgboost) (1.25.2)\n",
            "Requirement already satisfied: scipy in /usr/local/lib/python3.10/dist-packages (from xgboost) (1.11.4)\n",
            "Accuracy:  0.9641666666666666\n",
            "Precision:  0.9637561779242174\n",
            "Recall:  0.9653465346534653\n",
            "F1 score:  0.964550700741962\n",
            "Confusion Matrix:  [[572  22]\n",
            " [ 21 585]]\n"
          ]
        }
      ],
      "source": [
        "# Install required Library\n",
        "!pip install scikit-optimize\n",
        "!pip install flaml\n",
        "!pip install xgboost\n",
        "# Import the required libraries\n",
        "\n",
        "from sklearn.model_selection import train_test_split, GridSearchCV\n",
        "from sklearn.svm import SVC\n",
        "from sklearn.metrics import accuracy_score, precision_score, recall_score, f1_score, confusion_matrix\n",
        "from sklearn.preprocessing import StandardScaler\n",
        "from sklearn.model_selection import cross_val_score\n",
        "import xgboost as xgb\n",
        "from flaml import AutoML\n",
        "\n",
        "\n",
        "\n",
        "import numpy as np\n",
        "import pandas as pd\n",
        "# Load dataset\n",
        "# train_data = pd.read_csv('https://raw.githubusercontent.com/CHITANDAy/3217/main/TrainingDataBinary.csv')\n",
        "# test_data = pd.read_csv('https://raw.githubusercontent.com/CHITANDAy/3217/main/TestingDataBinary.csv')\n",
        "train_data = pd.read_csv('/content/TrainingDataBinary.csv')\n",
        "test_data = pd.read_csv('/content/TestingDataBinary.csv')\n",
        "\n",
        "# Separate features and labels\n",
        "X = train_data.iloc[:, :-1]\n",
        "y = train_data.iloc[:, -1]\n",
        "\n",
        "# Standardize the data\n",
        "scaler = StandardScaler()\n",
        "X_scaled = scaler.fit_transform(X)\n",
        "\n",
        "# Split the data\n",
        "# Reserver 20% of the Training set as Validation set\n",
        "X_train, X_test, y_train, y_test = train_test_split(X_scaled, y, test_size=0.2, random_state=30)\n",
        "\n",
        "# Create SVM and training\n",
        "svm = SVC(C = 210, gamma = 0.08, kernel = 'rbf')\n",
        "svm.fit(X_train, y_train)\n",
        "\n",
        "\n",
        "# Validation\n",
        "y_pred = svm.predict(X_test)\n",
        "accuracy = accuracy_score(y_test, y_pred)\n",
        "precision = precision_score(y_test, y_pred)\n",
        "recall = recall_score(y_test, y_pred)\n",
        "f1 = f1_score(y_test, y_pred)\n",
        "conf_matrix = confusion_matrix(y_test, y_pred)\n",
        "\n",
        "print(\"Accuracy: \", accuracy)\n",
        "print(\"Precision: \", precision)\n",
        "print(\"Recall: \", recall)\n",
        "print(\"F1 score: \", f1)\n",
        "print(\"Confusion Matrix: \", conf_matrix)\n"
      ]
    },
    {
      "cell_type": "code",
      "source": [],
      "metadata": {
        "id": "gFmhIT80QjJU"
      },
      "execution_count": null,
      "outputs": []
    },
    {
      "cell_type": "markdown",
      "source": [
        "# Optimization SVM - Grid Search Method to find hyperparameters for SVM (not need to execute this code block"
      ],
      "metadata": {
        "id": "KLFzF-9N15_Z"
      }
    },
    {
      "cell_type": "markdown",
      "source": [
        "The following code block is for computing the best parameters for SVM, No need to run!"
      ],
      "metadata": {
        "id": "MzeHwBSmDHh1"
      }
    },
    {
      "cell_type": "code",
      "source": [
        "# # The best parametes list\n",
        "# param_grid = {\n",
        "#     'C' : [210],\n",
        "#     'gamma' : [0.08],\n",
        "#     'kernel' : ['rbf']\n",
        "# }\n",
        "\n",
        "\n",
        "# Install required Library\n",
        "!pip install scikit-optimize\n",
        "# Import the required libraries\n",
        "from sklearn.model_selection import train_test_split, GridSearchCV\n",
        "from sklearn.svm import SVC\n",
        "from sklearn.metrics import accuracy_score, precision_score, recall_score, f1_score, confusion_matrix\n",
        "from sklearn.preprocessing import StandardScaler\n",
        "from sklearn.model_selection import cross_val_score\n",
        "import xgboost as xgb\n",
        "\n",
        "\n",
        "import numpy as np\n",
        "import pandas as pd\n",
        "\n",
        "# Load dataset\n",
        "# train_data = pd.read_csv('https://raw.githubusercontent.com/CHITANDAy/3217/main/TrainingDataBinary.csv')\n",
        "# test_data = pd.read_csv('https://raw.githubusercontent.com/CHITANDAy/3217/main/TestingDataBinary.csv')\n",
        "train_data = pd.read_csv('/content/TrainingDataBinary.csv')\n",
        "test_data = pd.read_csv('/content/TestingDataBinary.csv')\n",
        "\n",
        "# Separate features and labels\n",
        "X = train_data.iloc[:, :-1]\n",
        "y = train_data.iloc[:, -1]\n",
        "\n",
        "# Standardize the data\n",
        "scaler = StandardScaler()\n",
        "X_scaled = scaler.fit_transform(X)\n",
        "\n",
        "# Split the data\n",
        "# Reserver 20% of the Training set as Validation set\n",
        "X_train, X_test, y_train, y_test = train_test_split(X_scaled, y, test_size=0.2, random_state=30)\n",
        "\n",
        "\n",
        "# The optimisation method (no need to run as we already know the result)\n",
        "svm = SVC()\n",
        "param_grid_svm = {\n",
        "    'C' : [1, 10, 100, 200, 210, 800, 2100, 2200, 2300, 2200, 2300, 2400, 2500, 2600, 2700, 2800, 2900],\n",
        "    'gamma' : [1000 ,100, 10,1, 0.1, 0.08, 0.07, 0.06, 0.05, 0.04, 0.03, 0.02, 0.01, 0.001],\n",
        "    'kernel' : ['rbf']\n",
        "}\n",
        "\n",
        "# Using Grid search to compute the best parameters for SVM\n",
        "grid_search = GridSearchCV(svm, param_grid_svm, cv = 5, scoring='accuracy')\n",
        "\n",
        "grid_search.fit(X_train, y_train)\n",
        "\n",
        "best_para = grid_search.best_params_\n",
        "best_score = grid_search.best_score_\n",
        "\n",
        "print(f\"Best parameters: {best_para}\")\n",
        "print(f\"Best accuracy score: {best_score}\")"
      ],
      "metadata": {
        "colab": {
          "base_uri": "https://localhost:8080/",
          "height": 512
        },
        "id": "5kzc3INGCunW",
        "outputId": "7281e0b6-2d6d-4e10-f8a1-81d2355aa91f"
      },
      "execution_count": null,
      "outputs": [
        {
          "output_type": "stream",
          "name": "stdout",
          "text": [
            "Requirement already satisfied: scikit-optimize in /usr/local/lib/python3.10/dist-packages (0.10.1)\n",
            "Requirement already satisfied: joblib>=0.11 in /usr/local/lib/python3.10/dist-packages (from scikit-optimize) (1.4.0)\n",
            "Requirement already satisfied: pyaml>=16.9 in /usr/local/lib/python3.10/dist-packages (from scikit-optimize) (24.4.0)\n",
            "Requirement already satisfied: numpy>=1.20.3 in /usr/local/lib/python3.10/dist-packages (from scikit-optimize) (1.25.2)\n",
            "Requirement already satisfied: scipy>=1.1.0 in /usr/local/lib/python3.10/dist-packages (from scikit-optimize) (1.11.4)\n",
            "Requirement already satisfied: scikit-learn>=1.0.0 in /usr/local/lib/python3.10/dist-packages (from scikit-optimize) (1.2.2)\n",
            "Requirement already satisfied: packaging>=21.3 in /usr/local/lib/python3.10/dist-packages (from scikit-optimize) (24.0)\n",
            "Requirement already satisfied: PyYAML in /usr/local/lib/python3.10/dist-packages (from pyaml>=16.9->scikit-optimize) (6.0.1)\n",
            "Requirement already satisfied: threadpoolctl>=2.0.0 in /usr/local/lib/python3.10/dist-packages (from scikit-learn>=1.0.0->scikit-optimize) (3.5.0)\n"
          ]
        },
        {
          "output_type": "error",
          "ename": "KeyboardInterrupt",
          "evalue": "",
          "traceback": [
            "\u001b[0;31m---------------------------------------------------------------------------\u001b[0m",
            "\u001b[0;31mKeyboardInterrupt\u001b[0m                         Traceback (most recent call last)",
            "\u001b[0;32m<ipython-input-3-5ca609d35bb3>\u001b[0m in \u001b[0;36m<cell line: 53>\u001b[0;34m()\u001b[0m\n\u001b[1;32m     51\u001b[0m \u001b[0mgrid_search\u001b[0m \u001b[0;34m=\u001b[0m \u001b[0mGridSearchCV\u001b[0m\u001b[0;34m(\u001b[0m\u001b[0msvm\u001b[0m\u001b[0;34m,\u001b[0m \u001b[0mparam_grid_svm\u001b[0m\u001b[0;34m,\u001b[0m \u001b[0mcv\u001b[0m \u001b[0;34m=\u001b[0m \u001b[0;36m5\u001b[0m\u001b[0;34m,\u001b[0m \u001b[0mscoring\u001b[0m\u001b[0;34m=\u001b[0m\u001b[0;34m'accuracy'\u001b[0m\u001b[0;34m)\u001b[0m\u001b[0;34m\u001b[0m\u001b[0;34m\u001b[0m\u001b[0m\n\u001b[1;32m     52\u001b[0m \u001b[0;34m\u001b[0m\u001b[0m\n\u001b[0;32m---> 53\u001b[0;31m \u001b[0mgrid_search\u001b[0m\u001b[0;34m.\u001b[0m\u001b[0mfit\u001b[0m\u001b[0;34m(\u001b[0m\u001b[0mX_train\u001b[0m\u001b[0;34m,\u001b[0m \u001b[0my_train\u001b[0m\u001b[0;34m)\u001b[0m\u001b[0;34m\u001b[0m\u001b[0;34m\u001b[0m\u001b[0m\n\u001b[0m\u001b[1;32m     54\u001b[0m \u001b[0;34m\u001b[0m\u001b[0m\n\u001b[1;32m     55\u001b[0m \u001b[0mbest_para\u001b[0m \u001b[0;34m=\u001b[0m \u001b[0mgrid_search\u001b[0m\u001b[0;34m.\u001b[0m\u001b[0mbest_params_\u001b[0m\u001b[0;34m\u001b[0m\u001b[0;34m\u001b[0m\u001b[0m\n",
            "\u001b[0;32m/usr/local/lib/python3.10/dist-packages/sklearn/model_selection/_search.py\u001b[0m in \u001b[0;36mfit\u001b[0;34m(self, X, y, groups, **fit_params)\u001b[0m\n\u001b[1;32m    872\u001b[0m                 \u001b[0;32mreturn\u001b[0m \u001b[0mresults\u001b[0m\u001b[0;34m\u001b[0m\u001b[0;34m\u001b[0m\u001b[0m\n\u001b[1;32m    873\u001b[0m \u001b[0;34m\u001b[0m\u001b[0m\n\u001b[0;32m--> 874\u001b[0;31m             \u001b[0mself\u001b[0m\u001b[0;34m.\u001b[0m\u001b[0m_run_search\u001b[0m\u001b[0;34m(\u001b[0m\u001b[0mevaluate_candidates\u001b[0m\u001b[0;34m)\u001b[0m\u001b[0;34m\u001b[0m\u001b[0;34m\u001b[0m\u001b[0m\n\u001b[0m\u001b[1;32m    875\u001b[0m \u001b[0;34m\u001b[0m\u001b[0m\n\u001b[1;32m    876\u001b[0m             \u001b[0;31m# multimetric is determined here because in the case of a callable\u001b[0m\u001b[0;34m\u001b[0m\u001b[0;34m\u001b[0m\u001b[0m\n",
            "\u001b[0;32m/usr/local/lib/python3.10/dist-packages/sklearn/model_selection/_search.py\u001b[0m in \u001b[0;36m_run_search\u001b[0;34m(self, evaluate_candidates)\u001b[0m\n\u001b[1;32m   1386\u001b[0m     \u001b[0;32mdef\u001b[0m \u001b[0m_run_search\u001b[0m\u001b[0;34m(\u001b[0m\u001b[0mself\u001b[0m\u001b[0;34m,\u001b[0m \u001b[0mevaluate_candidates\u001b[0m\u001b[0;34m)\u001b[0m\u001b[0;34m:\u001b[0m\u001b[0;34m\u001b[0m\u001b[0;34m\u001b[0m\u001b[0m\n\u001b[1;32m   1387\u001b[0m         \u001b[0;34m\"\"\"Search all candidates in param_grid\"\"\"\u001b[0m\u001b[0;34m\u001b[0m\u001b[0;34m\u001b[0m\u001b[0m\n\u001b[0;32m-> 1388\u001b[0;31m         \u001b[0mevaluate_candidates\u001b[0m\u001b[0;34m(\u001b[0m\u001b[0mParameterGrid\u001b[0m\u001b[0;34m(\u001b[0m\u001b[0mself\u001b[0m\u001b[0;34m.\u001b[0m\u001b[0mparam_grid\u001b[0m\u001b[0;34m)\u001b[0m\u001b[0;34m)\u001b[0m\u001b[0;34m\u001b[0m\u001b[0;34m\u001b[0m\u001b[0m\n\u001b[0m\u001b[1;32m   1389\u001b[0m \u001b[0;34m\u001b[0m\u001b[0m\n\u001b[1;32m   1390\u001b[0m \u001b[0;34m\u001b[0m\u001b[0m\n",
            "\u001b[0;32m/usr/local/lib/python3.10/dist-packages/sklearn/model_selection/_search.py\u001b[0m in \u001b[0;36mevaluate_candidates\u001b[0;34m(candidate_params, cv, more_results)\u001b[0m\n\u001b[1;32m    819\u001b[0m                     )\n\u001b[1;32m    820\u001b[0m \u001b[0;34m\u001b[0m\u001b[0m\n\u001b[0;32m--> 821\u001b[0;31m                 out = parallel(\n\u001b[0m\u001b[1;32m    822\u001b[0m                     delayed(_fit_and_score)(\n\u001b[1;32m    823\u001b[0m                         \u001b[0mclone\u001b[0m\u001b[0;34m(\u001b[0m\u001b[0mbase_estimator\u001b[0m\u001b[0;34m)\u001b[0m\u001b[0;34m,\u001b[0m\u001b[0;34m\u001b[0m\u001b[0;34m\u001b[0m\u001b[0m\n",
            "\u001b[0;32m/usr/local/lib/python3.10/dist-packages/sklearn/utils/parallel.py\u001b[0m in \u001b[0;36m__call__\u001b[0;34m(self, iterable)\u001b[0m\n\u001b[1;32m     61\u001b[0m             \u001b[0;32mfor\u001b[0m \u001b[0mdelayed_func\u001b[0m\u001b[0;34m,\u001b[0m \u001b[0margs\u001b[0m\u001b[0;34m,\u001b[0m \u001b[0mkwargs\u001b[0m \u001b[0;32min\u001b[0m \u001b[0miterable\u001b[0m\u001b[0;34m\u001b[0m\u001b[0;34m\u001b[0m\u001b[0m\n\u001b[1;32m     62\u001b[0m         )\n\u001b[0;32m---> 63\u001b[0;31m         \u001b[0;32mreturn\u001b[0m \u001b[0msuper\u001b[0m\u001b[0;34m(\u001b[0m\u001b[0;34m)\u001b[0m\u001b[0;34m.\u001b[0m\u001b[0m__call__\u001b[0m\u001b[0;34m(\u001b[0m\u001b[0miterable_with_config\u001b[0m\u001b[0;34m)\u001b[0m\u001b[0;34m\u001b[0m\u001b[0;34m\u001b[0m\u001b[0m\n\u001b[0m\u001b[1;32m     64\u001b[0m \u001b[0;34m\u001b[0m\u001b[0m\n\u001b[1;32m     65\u001b[0m \u001b[0;34m\u001b[0m\u001b[0m\n",
            "\u001b[0;32m/usr/local/lib/python3.10/dist-packages/joblib/parallel.py\u001b[0m in \u001b[0;36m__call__\u001b[0;34m(self, iterable)\u001b[0m\n\u001b[1;32m   1916\u001b[0m             \u001b[0moutput\u001b[0m \u001b[0;34m=\u001b[0m \u001b[0mself\u001b[0m\u001b[0;34m.\u001b[0m\u001b[0m_get_sequential_output\u001b[0m\u001b[0;34m(\u001b[0m\u001b[0miterable\u001b[0m\u001b[0;34m)\u001b[0m\u001b[0;34m\u001b[0m\u001b[0;34m\u001b[0m\u001b[0m\n\u001b[1;32m   1917\u001b[0m             \u001b[0mnext\u001b[0m\u001b[0;34m(\u001b[0m\u001b[0moutput\u001b[0m\u001b[0;34m)\u001b[0m\u001b[0;34m\u001b[0m\u001b[0;34m\u001b[0m\u001b[0m\n\u001b[0;32m-> 1918\u001b[0;31m             \u001b[0;32mreturn\u001b[0m \u001b[0moutput\u001b[0m \u001b[0;32mif\u001b[0m \u001b[0mself\u001b[0m\u001b[0;34m.\u001b[0m\u001b[0mreturn_generator\u001b[0m \u001b[0;32melse\u001b[0m \u001b[0mlist\u001b[0m\u001b[0;34m(\u001b[0m\u001b[0moutput\u001b[0m\u001b[0;34m)\u001b[0m\u001b[0;34m\u001b[0m\u001b[0;34m\u001b[0m\u001b[0m\n\u001b[0m\u001b[1;32m   1919\u001b[0m \u001b[0;34m\u001b[0m\u001b[0m\n\u001b[1;32m   1920\u001b[0m         \u001b[0;31m# Let's create an ID that uniquely identifies the current call. If the\u001b[0m\u001b[0;34m\u001b[0m\u001b[0;34m\u001b[0m\u001b[0m\n",
            "\u001b[0;32m/usr/local/lib/python3.10/dist-packages/joblib/parallel.py\u001b[0m in \u001b[0;36m_get_sequential_output\u001b[0;34m(self, iterable)\u001b[0m\n\u001b[1;32m   1845\u001b[0m                 \u001b[0mself\u001b[0m\u001b[0;34m.\u001b[0m\u001b[0mn_dispatched_batches\u001b[0m \u001b[0;34m+=\u001b[0m \u001b[0;36m1\u001b[0m\u001b[0;34m\u001b[0m\u001b[0;34m\u001b[0m\u001b[0m\n\u001b[1;32m   1846\u001b[0m                 \u001b[0mself\u001b[0m\u001b[0;34m.\u001b[0m\u001b[0mn_dispatched_tasks\u001b[0m \u001b[0;34m+=\u001b[0m \u001b[0;36m1\u001b[0m\u001b[0;34m\u001b[0m\u001b[0;34m\u001b[0m\u001b[0m\n\u001b[0;32m-> 1847\u001b[0;31m                 \u001b[0mres\u001b[0m \u001b[0;34m=\u001b[0m \u001b[0mfunc\u001b[0m\u001b[0;34m(\u001b[0m\u001b[0;34m*\u001b[0m\u001b[0margs\u001b[0m\u001b[0;34m,\u001b[0m \u001b[0;34m**\u001b[0m\u001b[0mkwargs\u001b[0m\u001b[0;34m)\u001b[0m\u001b[0;34m\u001b[0m\u001b[0;34m\u001b[0m\u001b[0m\n\u001b[0m\u001b[1;32m   1848\u001b[0m                 \u001b[0mself\u001b[0m\u001b[0;34m.\u001b[0m\u001b[0mn_completed_tasks\u001b[0m \u001b[0;34m+=\u001b[0m \u001b[0;36m1\u001b[0m\u001b[0;34m\u001b[0m\u001b[0;34m\u001b[0m\u001b[0m\n\u001b[1;32m   1849\u001b[0m                 \u001b[0mself\u001b[0m\u001b[0;34m.\u001b[0m\u001b[0mprint_progress\u001b[0m\u001b[0;34m(\u001b[0m\u001b[0;34m)\u001b[0m\u001b[0;34m\u001b[0m\u001b[0;34m\u001b[0m\u001b[0m\n",
            "\u001b[0;32m/usr/local/lib/python3.10/dist-packages/sklearn/utils/parallel.py\u001b[0m in \u001b[0;36m__call__\u001b[0;34m(self, *args, **kwargs)\u001b[0m\n\u001b[1;32m    121\u001b[0m             \u001b[0mconfig\u001b[0m \u001b[0;34m=\u001b[0m \u001b[0;34m{\u001b[0m\u001b[0;34m}\u001b[0m\u001b[0;34m\u001b[0m\u001b[0;34m\u001b[0m\u001b[0m\n\u001b[1;32m    122\u001b[0m         \u001b[0;32mwith\u001b[0m \u001b[0mconfig_context\u001b[0m\u001b[0;34m(\u001b[0m\u001b[0;34m**\u001b[0m\u001b[0mconfig\u001b[0m\u001b[0;34m)\u001b[0m\u001b[0;34m:\u001b[0m\u001b[0;34m\u001b[0m\u001b[0;34m\u001b[0m\u001b[0m\n\u001b[0;32m--> 123\u001b[0;31m             \u001b[0;32mreturn\u001b[0m \u001b[0mself\u001b[0m\u001b[0;34m.\u001b[0m\u001b[0mfunction\u001b[0m\u001b[0;34m(\u001b[0m\u001b[0;34m*\u001b[0m\u001b[0margs\u001b[0m\u001b[0;34m,\u001b[0m \u001b[0;34m**\u001b[0m\u001b[0mkwargs\u001b[0m\u001b[0;34m)\u001b[0m\u001b[0;34m\u001b[0m\u001b[0;34m\u001b[0m\u001b[0m\n\u001b[0m",
            "\u001b[0;32m/usr/local/lib/python3.10/dist-packages/sklearn/model_selection/_validation.py\u001b[0m in \u001b[0;36m_fit_and_score\u001b[0;34m(estimator, X, y, scorer, train, test, verbose, parameters, fit_params, return_train_score, return_parameters, return_n_test_samples, return_times, return_estimator, split_progress, candidate_progress, error_score)\u001b[0m\n\u001b[1;32m    684\u001b[0m             \u001b[0mestimator\u001b[0m\u001b[0;34m.\u001b[0m\u001b[0mfit\u001b[0m\u001b[0;34m(\u001b[0m\u001b[0mX_train\u001b[0m\u001b[0;34m,\u001b[0m \u001b[0;34m**\u001b[0m\u001b[0mfit_params\u001b[0m\u001b[0;34m)\u001b[0m\u001b[0;34m\u001b[0m\u001b[0;34m\u001b[0m\u001b[0m\n\u001b[1;32m    685\u001b[0m         \u001b[0;32melse\u001b[0m\u001b[0;34m:\u001b[0m\u001b[0;34m\u001b[0m\u001b[0;34m\u001b[0m\u001b[0m\n\u001b[0;32m--> 686\u001b[0;31m             \u001b[0mestimator\u001b[0m\u001b[0;34m.\u001b[0m\u001b[0mfit\u001b[0m\u001b[0;34m(\u001b[0m\u001b[0mX_train\u001b[0m\u001b[0;34m,\u001b[0m \u001b[0my_train\u001b[0m\u001b[0;34m,\u001b[0m \u001b[0;34m**\u001b[0m\u001b[0mfit_params\u001b[0m\u001b[0;34m)\u001b[0m\u001b[0;34m\u001b[0m\u001b[0;34m\u001b[0m\u001b[0m\n\u001b[0m\u001b[1;32m    687\u001b[0m \u001b[0;34m\u001b[0m\u001b[0m\n\u001b[1;32m    688\u001b[0m     \u001b[0;32mexcept\u001b[0m \u001b[0mException\u001b[0m\u001b[0;34m:\u001b[0m\u001b[0;34m\u001b[0m\u001b[0;34m\u001b[0m\u001b[0m\n",
            "\u001b[0;32m/usr/local/lib/python3.10/dist-packages/sklearn/svm/_base.py\u001b[0m in \u001b[0;36mfit\u001b[0;34m(self, X, y, sample_weight)\u001b[0m\n\u001b[1;32m    250\u001b[0m \u001b[0;34m\u001b[0m\u001b[0m\n\u001b[1;32m    251\u001b[0m         \u001b[0mseed\u001b[0m \u001b[0;34m=\u001b[0m \u001b[0mrnd\u001b[0m\u001b[0;34m.\u001b[0m\u001b[0mrandint\u001b[0m\u001b[0;34m(\u001b[0m\u001b[0mnp\u001b[0m\u001b[0;34m.\u001b[0m\u001b[0miinfo\u001b[0m\u001b[0;34m(\u001b[0m\u001b[0;34m\"i\"\u001b[0m\u001b[0;34m)\u001b[0m\u001b[0;34m.\u001b[0m\u001b[0mmax\u001b[0m\u001b[0;34m)\u001b[0m\u001b[0;34m\u001b[0m\u001b[0;34m\u001b[0m\u001b[0m\n\u001b[0;32m--> 252\u001b[0;31m         \u001b[0mfit\u001b[0m\u001b[0;34m(\u001b[0m\u001b[0mX\u001b[0m\u001b[0;34m,\u001b[0m \u001b[0my\u001b[0m\u001b[0;34m,\u001b[0m \u001b[0msample_weight\u001b[0m\u001b[0;34m,\u001b[0m \u001b[0msolver_type\u001b[0m\u001b[0;34m,\u001b[0m \u001b[0mkernel\u001b[0m\u001b[0;34m,\u001b[0m \u001b[0mrandom_seed\u001b[0m\u001b[0;34m=\u001b[0m\u001b[0mseed\u001b[0m\u001b[0;34m)\u001b[0m\u001b[0;34m\u001b[0m\u001b[0;34m\u001b[0m\u001b[0m\n\u001b[0m\u001b[1;32m    253\u001b[0m         \u001b[0;31m# see comment on the other call to np.iinfo in this file\u001b[0m\u001b[0;34m\u001b[0m\u001b[0;34m\u001b[0m\u001b[0m\n\u001b[1;32m    254\u001b[0m \u001b[0;34m\u001b[0m\u001b[0m\n",
            "\u001b[0;32m/usr/local/lib/python3.10/dist-packages/sklearn/svm/_base.py\u001b[0m in \u001b[0;36m_dense_fit\u001b[0;34m(self, X, y, sample_weight, solver_type, kernel, random_seed)\u001b[0m\n\u001b[1;32m    329\u001b[0m             \u001b[0mself\u001b[0m\u001b[0;34m.\u001b[0m\u001b[0mfit_status_\u001b[0m\u001b[0;34m,\u001b[0m\u001b[0;34m\u001b[0m\u001b[0;34m\u001b[0m\u001b[0m\n\u001b[1;32m    330\u001b[0m             \u001b[0mself\u001b[0m\u001b[0;34m.\u001b[0m\u001b[0m_num_iter\u001b[0m\u001b[0;34m,\u001b[0m\u001b[0;34m\u001b[0m\u001b[0;34m\u001b[0m\u001b[0m\n\u001b[0;32m--> 331\u001b[0;31m         \u001b[0;34m)\u001b[0m \u001b[0;34m=\u001b[0m \u001b[0mlibsvm\u001b[0m\u001b[0;34m.\u001b[0m\u001b[0mfit\u001b[0m\u001b[0;34m(\u001b[0m\u001b[0;34m\u001b[0m\u001b[0;34m\u001b[0m\u001b[0m\n\u001b[0m\u001b[1;32m    332\u001b[0m             \u001b[0mX\u001b[0m\u001b[0;34m,\u001b[0m\u001b[0;34m\u001b[0m\u001b[0;34m\u001b[0m\u001b[0m\n\u001b[1;32m    333\u001b[0m             \u001b[0my\u001b[0m\u001b[0;34m,\u001b[0m\u001b[0;34m\u001b[0m\u001b[0;34m\u001b[0m\u001b[0m\n",
            "\u001b[0;31mKeyboardInterrupt\u001b[0m: "
          ]
        }
      ]
    },
    {
      "cell_type": "markdown",
      "source": [
        "# Optimization XGB - Via AutoML library to found best parameters for xgb model (not need to execute this code block)"
      ],
      "metadata": {
        "id": "zwfl5awXqe3F"
      }
    },
    {
      "cell_type": "code",
      "source": [
        "# Install required Library\n",
        "!pip install scikit-optimize\n",
        "!pip install flaml\n",
        "!pip install xgboost\n",
        "# Import the required libraries\n",
        "from sklearn.model_selection import train_test_split\n",
        "from sklearn.metrics import accuracy_score, precision_score, recall_score, f1_score, confusion_matrix\n",
        "from sklearn.preprocessing import StandardScaler\n",
        "from sklearn.model_selection import cross_val_score\n",
        "import xgboost as xgb\n",
        "from flaml import AutoML\n",
        "from xgboost import XGBClassifier\n",
        "import numpy as np\n",
        "import pandas as pd\n",
        "\n",
        "\n",
        "autoxgb = AutoML()\n",
        "\n",
        "# Load dataset\n",
        "# train_data = pd.read_csv('https://raw.githubusercontent.com/CHITANDAy/3217/main/TrainingDataBinary.csv')\n",
        "# test_data = pd.read_csv('https://raw.githubusercontent.com/CHITANDAy/3217/main/TestingDataBinary.csv')\n",
        "train_data = pd.read_csv('/content/TrainingDataBinary.csv')\n",
        "test_data = pd.read_csv('/content/TestingDataBinary.csv')\n",
        "\n",
        "# Separate features and labels\n",
        "X = train_data.iloc[:, :-1]\n",
        "y = train_data.iloc[:, -1]\n",
        "\n",
        "# Standardize the data\n",
        "scaler = StandardScaler()\n",
        "X_scaled = scaler.fit_transform(X)\n",
        "\n",
        "# Split the data\n",
        "# Reserver 20% of the Training set as Validation set\n",
        "X_train, X_test, y_train, y_test = train_test_split(X_scaled, y, test_size=0.2, random_state=30)\n",
        "\n",
        "# Parameters\n",
        "params = {\n",
        "    \"time_budget\": 4000,     # Running Time in second 4000 secs\n",
        "    \"metric\": 'accuracy',     # Optimization by accuracy\n",
        "    \"task\": 'classification',   # Task Type\n",
        "    \"estimator_list\": [\"xgboost\"],   # Specify the model as Random Forest\n",
        "    \"seed\": 478914\n",
        "}\n",
        "\n",
        "autoxgb.fit(X_train, y_train, **params)\n",
        "\n",
        "print('Best hyperparmeter: ', autoxgb.best_config)\n",
        "print('Accuracy: {0:.4g}'.format(1 - autoxgb.best_loss))"
      ],
      "metadata": {
        "colab": {
          "base_uri": "https://localhost:8080/",
          "height": 1000
        },
        "id": "-Pm3SbeCiMR3",
        "outputId": "c76c7058-1d09-4337-e309-5a50f9727d0a"
      },
      "execution_count": null,
      "outputs": [
        {
          "output_type": "stream",
          "name": "stdout",
          "text": [
            "Requirement already satisfied: scikit-optimize in /usr/local/lib/python3.10/dist-packages (0.10.1)\n",
            "Requirement already satisfied: joblib>=0.11 in /usr/local/lib/python3.10/dist-packages (from scikit-optimize) (1.4.0)\n",
            "Requirement already satisfied: pyaml>=16.9 in /usr/local/lib/python3.10/dist-packages (from scikit-optimize) (24.4.0)\n",
            "Requirement already satisfied: numpy>=1.20.3 in /usr/local/lib/python3.10/dist-packages (from scikit-optimize) (1.25.2)\n",
            "Requirement already satisfied: scipy>=1.1.0 in /usr/local/lib/python3.10/dist-packages (from scikit-optimize) (1.11.4)\n",
            "Requirement already satisfied: scikit-learn>=1.0.0 in /usr/local/lib/python3.10/dist-packages (from scikit-optimize) (1.2.2)\n",
            "Requirement already satisfied: packaging>=21.3 in /usr/local/lib/python3.10/dist-packages (from scikit-optimize) (24.0)\n",
            "Requirement already satisfied: PyYAML in /usr/local/lib/python3.10/dist-packages (from pyaml>=16.9->scikit-optimize) (6.0.1)\n",
            "Requirement already satisfied: threadpoolctl>=2.0.0 in /usr/local/lib/python3.10/dist-packages (from scikit-learn>=1.0.0->scikit-optimize) (3.5.0)\n",
            "Requirement already satisfied: flaml in /usr/local/lib/python3.10/dist-packages (2.1.2)\n",
            "Requirement already satisfied: NumPy>=1.17 in /usr/local/lib/python3.10/dist-packages (from flaml) (1.25.2)\n",
            "Requirement already satisfied: xgboost in /usr/local/lib/python3.10/dist-packages (2.0.3)\n",
            "Requirement already satisfied: numpy in /usr/local/lib/python3.10/dist-packages (from xgboost) (1.25.2)\n",
            "Requirement already satisfied: scipy in /usr/local/lib/python3.10/dist-packages (from xgboost) (1.11.4)\n",
            "[flaml.automl.logger: 05-06 18:48:06] {1680} INFO - task = classification\n",
            "[flaml.automl.logger: 05-06 18:48:06] {1691} INFO - Evaluation method: cv\n",
            "[flaml.automl.logger: 05-06 18:48:06] {1789} INFO - Minimizing error metric: 1-accuracy\n",
            "[flaml.automl.logger: 05-06 18:48:06] {1901} INFO - List of ML learners in AutoML Run: ['xgboost']\n",
            "[flaml.automl.logger: 05-06 18:48:06] {2219} INFO - iteration 0, current learner xgboost\n",
            "[flaml.automl.logger: 05-06 18:48:07] {2345} INFO - Estimated sufficient time budget=3799s. Estimated necessary time budget=4s.\n",
            "[flaml.automl.logger: 05-06 18:48:07] {2392} INFO -  at 0.4s,\testimator xgboost's best error=0.1448,\tbest estimator xgboost's best error=0.1448\n",
            "[flaml.automl.logger: 05-06 18:48:07] {2219} INFO - iteration 1, current learner xgboost\n",
            "[flaml.automl.logger: 05-06 18:48:07] {2392} INFO -  at 0.8s,\testimator xgboost's best error=0.1183,\tbest estimator xgboost's best error=0.1183\n",
            "[flaml.automl.logger: 05-06 18:48:07] {2219} INFO - iteration 2, current learner xgboost\n",
            "[flaml.automl.logger: 05-06 18:48:07] {2392} INFO -  at 1.1s,\testimator xgboost's best error=0.1183,\tbest estimator xgboost's best error=0.1183\n",
            "[flaml.automl.logger: 05-06 18:48:07] {2219} INFO - iteration 3, current learner xgboost\n",
            "[flaml.automl.logger: 05-06 18:48:08] {2392} INFO -  at 1.5s,\testimator xgboost's best error=0.1183,\tbest estimator xgboost's best error=0.1183\n",
            "[flaml.automl.logger: 05-06 18:48:08] {2219} INFO - iteration 4, current learner xgboost\n",
            "[flaml.automl.logger: 05-06 18:48:08] {2392} INFO -  at 1.8s,\testimator xgboost's best error=0.0929,\tbest estimator xgboost's best error=0.0929\n",
            "[flaml.automl.logger: 05-06 18:48:08] {2219} INFO - iteration 5, current learner xgboost\n",
            "[flaml.automl.logger: 05-06 18:48:09] {2392} INFO -  at 2.4s,\testimator xgboost's best error=0.0823,\tbest estimator xgboost's best error=0.0823\n",
            "[flaml.automl.logger: 05-06 18:48:09] {2219} INFO - iteration 6, current learner xgboost\n",
            "[flaml.automl.logger: 05-06 18:48:10] {2392} INFO -  at 3.4s,\testimator xgboost's best error=0.0823,\tbest estimator xgboost's best error=0.0823\n",
            "[flaml.automl.logger: 05-06 18:48:10] {2219} INFO - iteration 7, current learner xgboost\n",
            "[flaml.automl.logger: 05-06 18:48:13] {2392} INFO -  at 6.5s,\testimator xgboost's best error=0.0231,\tbest estimator xgboost's best error=0.0231\n",
            "[flaml.automl.logger: 05-06 18:48:13] {2219} INFO - iteration 8, current learner xgboost\n",
            "[flaml.automl.logger: 05-06 18:48:13] {2392} INFO -  at 7.1s,\testimator xgboost's best error=0.0231,\tbest estimator xgboost's best error=0.0231\n",
            "[flaml.automl.logger: 05-06 18:48:13] {2219} INFO - iteration 9, current learner xgboost\n"
          ]
        },
        {
          "output_type": "error",
          "ename": "KeyboardInterrupt",
          "evalue": "",
          "traceback": [
            "\u001b[0;31m---------------------------------------------------------------------------\u001b[0m",
            "\u001b[0;31mKeyboardInterrupt\u001b[0m                         Traceback (most recent call last)",
            "\u001b[0;32m<ipython-input-2-6b8f609efac1>\u001b[0m in \u001b[0;36m<cell line: 46>\u001b[0;34m()\u001b[0m\n\u001b[1;32m     44\u001b[0m }\n\u001b[1;32m     45\u001b[0m \u001b[0;34m\u001b[0m\u001b[0m\n\u001b[0;32m---> 46\u001b[0;31m \u001b[0mautoxgb\u001b[0m\u001b[0;34m.\u001b[0m\u001b[0mfit\u001b[0m\u001b[0;34m(\u001b[0m\u001b[0mX_train\u001b[0m\u001b[0;34m,\u001b[0m \u001b[0my_train\u001b[0m\u001b[0;34m,\u001b[0m \u001b[0;34m**\u001b[0m\u001b[0mparams\u001b[0m\u001b[0;34m)\u001b[0m\u001b[0;34m\u001b[0m\u001b[0;34m\u001b[0m\u001b[0m\n\u001b[0m\u001b[1;32m     47\u001b[0m \u001b[0;34m\u001b[0m\u001b[0m\n\u001b[1;32m     48\u001b[0m \u001b[0mprint\u001b[0m\u001b[0;34m(\u001b[0m\u001b[0;34m'Best hyperparmeter: '\u001b[0m\u001b[0;34m,\u001b[0m \u001b[0mautoxgb\u001b[0m\u001b[0;34m.\u001b[0m\u001b[0mbest_config\u001b[0m\u001b[0;34m)\u001b[0m\u001b[0;34m\u001b[0m\u001b[0;34m\u001b[0m\u001b[0m\n",
            "\u001b[0;32m/usr/local/lib/python3.10/dist-packages/flaml/automl/automl.py\u001b[0m in \u001b[0;36mfit\u001b[0;34m(self, X_train, y_train, dataframe, label, metric, task, n_jobs, log_file_name, estimator_list, time_budget, max_iter, sample, ensemble, eval_method, log_type, model_history, split_ratio, n_splits, log_training_metric, mem_thres, pred_time_limit, train_time_limit, X_val, y_val, sample_weight_val, groups_val, groups, verbose, retrain_full, split_type, learner_selector, hpo_method, starting_points, seed, n_concurrent_trials, keep_search_state, preserve_checkpoint, early_stop, force_cancel, append_log, auto_augment, min_sample_size, use_ray, use_spark, free_mem_ratio, metric_constraints, custom_hp, time_col, cv_score_agg_func, skip_transform, mlflow_logging, fit_kwargs_by_estimator, **fit_kwargs)\u001b[0m\n\u001b[1;32m   1927\u001b[0m         \u001b[0;32melse\u001b[0m\u001b[0;34m:\u001b[0m\u001b[0;34m\u001b[0m\u001b[0;34m\u001b[0m\u001b[0m\n\u001b[1;32m   1928\u001b[0m             \u001b[0mself\u001b[0m\u001b[0;34m.\u001b[0m\u001b[0m_training_log\u001b[0m \u001b[0;34m=\u001b[0m \u001b[0;32mNone\u001b[0m\u001b[0;34m\u001b[0m\u001b[0;34m\u001b[0m\u001b[0m\n\u001b[0;32m-> 1929\u001b[0;31m             \u001b[0mself\u001b[0m\u001b[0;34m.\u001b[0m\u001b[0m_search\u001b[0m\u001b[0;34m(\u001b[0m\u001b[0;34m)\u001b[0m\u001b[0;34m\u001b[0m\u001b[0;34m\u001b[0m\u001b[0m\n\u001b[0m\u001b[1;32m   1930\u001b[0m         \u001b[0;32mif\u001b[0m \u001b[0mself\u001b[0m\u001b[0;34m.\u001b[0m\u001b[0m_best_estimator\u001b[0m\u001b[0;34m:\u001b[0m\u001b[0;34m\u001b[0m\u001b[0;34m\u001b[0m\u001b[0m\n\u001b[1;32m   1931\u001b[0m             \u001b[0mlogger\u001b[0m\u001b[0;34m.\u001b[0m\u001b[0minfo\u001b[0m\u001b[0;34m(\u001b[0m\u001b[0;34m\"fit succeeded\"\u001b[0m\u001b[0;34m)\u001b[0m\u001b[0;34m\u001b[0m\u001b[0;34m\u001b[0m\u001b[0m\n",
            "\u001b[0;32m/usr/local/lib/python3.10/dist-packages/flaml/automl/automl.py\u001b[0m in \u001b[0;36m_search\u001b[0;34m(self)\u001b[0m\n\u001b[1;32m   2481\u001b[0m             \u001b[0mstate\u001b[0m\u001b[0;34m.\u001b[0m\u001b[0mbest_config\u001b[0m \u001b[0;34m=\u001b[0m \u001b[0mstate\u001b[0m\u001b[0;34m.\u001b[0m\u001b[0minit_config\u001b[0m\u001b[0;34m[\u001b[0m\u001b[0;36m0\u001b[0m\u001b[0;34m]\u001b[0m \u001b[0;32mif\u001b[0m \u001b[0mstate\u001b[0m\u001b[0;34m.\u001b[0m\u001b[0minit_config\u001b[0m \u001b[0;32melse\u001b[0m \u001b[0;34m{\u001b[0m\u001b[0;34m}\u001b[0m\u001b[0;34m\u001b[0m\u001b[0;34m\u001b[0m\u001b[0m\n\u001b[1;32m   2482\u001b[0m         \u001b[0;32melif\u001b[0m \u001b[0mself\u001b[0m\u001b[0;34m.\u001b[0m\u001b[0m_use_ray\u001b[0m \u001b[0;32mis\u001b[0m \u001b[0;32mFalse\u001b[0m \u001b[0;32mand\u001b[0m \u001b[0mself\u001b[0m\u001b[0;34m.\u001b[0m\u001b[0m_use_spark\u001b[0m \u001b[0;32mis\u001b[0m \u001b[0;32mFalse\u001b[0m\u001b[0;34m:\u001b[0m\u001b[0;34m\u001b[0m\u001b[0;34m\u001b[0m\u001b[0m\n\u001b[0;32m-> 2483\u001b[0;31m             \u001b[0mself\u001b[0m\u001b[0;34m.\u001b[0m\u001b[0m_search_sequential\u001b[0m\u001b[0;34m(\u001b[0m\u001b[0;34m)\u001b[0m\u001b[0;34m\u001b[0m\u001b[0;34m\u001b[0m\u001b[0m\n\u001b[0m\u001b[1;32m   2484\u001b[0m         \u001b[0;32melse\u001b[0m\u001b[0;34m:\u001b[0m\u001b[0;34m\u001b[0m\u001b[0;34m\u001b[0m\u001b[0m\n\u001b[1;32m   2485\u001b[0m             \u001b[0mself\u001b[0m\u001b[0;34m.\u001b[0m\u001b[0m_search_parallel\u001b[0m\u001b[0;34m(\u001b[0m\u001b[0;34m)\u001b[0m\u001b[0;34m\u001b[0m\u001b[0;34m\u001b[0m\u001b[0m\n",
            "\u001b[0;32m/usr/local/lib/python3.10/dist-packages/flaml/automl/automl.py\u001b[0m in \u001b[0;36m_search_sequential\u001b[0;34m(self)\u001b[0m\n\u001b[1;32m   2317\u001b[0m                     )\n\u001b[1;32m   2318\u001b[0m             \u001b[0mstart_run_time\u001b[0m \u001b[0;34m=\u001b[0m \u001b[0mtime\u001b[0m\u001b[0;34m.\u001b[0m\u001b[0mtime\u001b[0m\u001b[0;34m(\u001b[0m\u001b[0;34m)\u001b[0m\u001b[0;34m\u001b[0m\u001b[0;34m\u001b[0m\u001b[0m\n\u001b[0;32m-> 2319\u001b[0;31m             analysis = tune.run(\n\u001b[0m\u001b[1;32m   2320\u001b[0m                 \u001b[0msearch_state\u001b[0m\u001b[0;34m.\u001b[0m\u001b[0mtraining_function\u001b[0m\u001b[0;34m,\u001b[0m\u001b[0;34m\u001b[0m\u001b[0;34m\u001b[0m\u001b[0m\n\u001b[1;32m   2321\u001b[0m                 \u001b[0msearch_alg\u001b[0m\u001b[0;34m=\u001b[0m\u001b[0msearch_state\u001b[0m\u001b[0;34m.\u001b[0m\u001b[0msearch_alg\u001b[0m\u001b[0;34m,\u001b[0m\u001b[0;34m\u001b[0m\u001b[0;34m\u001b[0m\u001b[0m\n",
            "\u001b[0;32m/usr/local/lib/python3.10/dist-packages/flaml/tune/tune.py\u001b[0m in \u001b[0;36mrun\u001b[0;34m(evaluation_function, config, low_cost_partial_config, cat_hp_cost, metric, mode, time_budget_s, points_to_evaluate, evaluated_rewards, resource_attr, min_resource, max_resource, reduction_factor, scheduler, search_alg, verbose, local_dir, num_samples, resources_per_trial, config_constraints, metric_constraints, max_failure, use_ray, use_spark, use_incumbent_result_in_evaluation, log_file_name, lexico_objectives, force_cancel, n_concurrent_trials, **ray_args)\u001b[0m\n\u001b[1;32m    812\u001b[0m                 \u001b[0mresult\u001b[0m \u001b[0;34m=\u001b[0m \u001b[0;32mNone\u001b[0m\u001b[0;34m\u001b[0m\u001b[0;34m\u001b[0m\u001b[0m\n\u001b[1;32m    813\u001b[0m                 \u001b[0;32mwith\u001b[0m \u001b[0mPySparkOvertimeMonitor\u001b[0m\u001b[0;34m(\u001b[0m\u001b[0mtime_start\u001b[0m\u001b[0;34m,\u001b[0m \u001b[0mtime_budget_s\u001b[0m\u001b[0;34m,\u001b[0m \u001b[0mforce_cancel\u001b[0m\u001b[0;34m)\u001b[0m\u001b[0;34m:\u001b[0m\u001b[0;34m\u001b[0m\u001b[0;34m\u001b[0m\u001b[0m\n\u001b[0;32m--> 814\u001b[0;31m                     \u001b[0mresult\u001b[0m \u001b[0;34m=\u001b[0m \u001b[0mevaluation_function\u001b[0m\u001b[0;34m(\u001b[0m\u001b[0mtrial_to_run\u001b[0m\u001b[0;34m.\u001b[0m\u001b[0mconfig\u001b[0m\u001b[0;34m)\u001b[0m\u001b[0;34m\u001b[0m\u001b[0;34m\u001b[0m\u001b[0m\n\u001b[0m\u001b[1;32m    815\u001b[0m                 \u001b[0;32mif\u001b[0m \u001b[0mresult\u001b[0m \u001b[0;32mis\u001b[0m \u001b[0;32mnot\u001b[0m \u001b[0;32mNone\u001b[0m\u001b[0;34m:\u001b[0m\u001b[0;34m\u001b[0m\u001b[0;34m\u001b[0m\u001b[0m\n\u001b[1;32m    816\u001b[0m                     \u001b[0;32mif\u001b[0m \u001b[0misinstance\u001b[0m\u001b[0;34m(\u001b[0m\u001b[0mresult\u001b[0m\u001b[0;34m,\u001b[0m \u001b[0mdict\u001b[0m\u001b[0;34m)\u001b[0m\u001b[0;34m:\u001b[0m\u001b[0;34m\u001b[0m\u001b[0;34m\u001b[0m\u001b[0m\n",
            "\u001b[0;32m/usr/local/lib/python3.10/dist-packages/flaml/automl/state.py\u001b[0m in \u001b[0;36m_compute_with_config_base\u001b[0;34m(config_w_resource, state, estimator, is_report)\u001b[0m\n\u001b[1;32m    302\u001b[0m             \u001b[0m_\u001b[0m\u001b[0;34m,\u001b[0m\u001b[0;34m\u001b[0m\u001b[0;34m\u001b[0m\u001b[0m\n\u001b[1;32m    303\u001b[0m             \u001b[0mpred_time\u001b[0m\u001b[0;34m,\u001b[0m\u001b[0;34m\u001b[0m\u001b[0;34m\u001b[0m\u001b[0m\n\u001b[0;32m--> 304\u001b[0;31m         \u001b[0;34m)\u001b[0m \u001b[0;34m=\u001b[0m \u001b[0mcompute_estimator\u001b[0m\u001b[0;34m(\u001b[0m\u001b[0;34m\u001b[0m\u001b[0;34m\u001b[0m\u001b[0m\n\u001b[0m\u001b[1;32m    305\u001b[0m             \u001b[0msampled_X_train\u001b[0m\u001b[0;34m,\u001b[0m\u001b[0;34m\u001b[0m\u001b[0;34m\u001b[0m\u001b[0m\n\u001b[1;32m    306\u001b[0m             \u001b[0msampled_y_train\u001b[0m\u001b[0;34m,\u001b[0m\u001b[0;34m\u001b[0m\u001b[0;34m\u001b[0m\u001b[0m\n",
            "\u001b[0;32m/usr/local/lib/python3.10/dist-packages/flaml/automl/ml.py\u001b[0m in \u001b[0;36mcompute_estimator\u001b[0;34m(X_train, y_train, X_val, y_val, weight_val, groups_val, budget, kf, config_dic, task, estimator_name, eval_method, eval_metric, best_val_loss, n_jobs, estimator_class, cv_score_agg_func, log_training_metric, fit_kwargs, free_mem_ratio)\u001b[0m\n\u001b[1;32m    367\u001b[0m         )\n\u001b[1;32m    368\u001b[0m     \u001b[0;32melse\u001b[0m\u001b[0;34m:\u001b[0m\u001b[0;34m\u001b[0m\u001b[0;34m\u001b[0m\u001b[0m\n\u001b[0;32m--> 369\u001b[0;31m         val_loss, metric_for_logging, train_time, pred_time = task.evaluate_model_CV(\n\u001b[0m\u001b[1;32m    370\u001b[0m             \u001b[0mconfig_dic\u001b[0m\u001b[0;34m,\u001b[0m\u001b[0;34m\u001b[0m\u001b[0;34m\u001b[0m\u001b[0m\n\u001b[1;32m    371\u001b[0m             \u001b[0mestimator\u001b[0m\u001b[0;34m,\u001b[0m\u001b[0;34m\u001b[0m\u001b[0;34m\u001b[0m\u001b[0m\n",
            "\u001b[0;32m/usr/local/lib/python3.10/dist-packages/flaml/automl/task/generic_task.py\u001b[0m in \u001b[0;36mevaluate_model_CV\u001b[0;34m(self, config, estimator, X_train_all, y_train_all, budget, kf, eval_metric, best_val_loss, cv_score_agg_func, log_training_metric, fit_kwargs, free_mem_ratio)\u001b[0m\n\u001b[1;32m    738\u001b[0m \u001b[0;34m\u001b[0m\u001b[0m\n\u001b[1;32m    739\u001b[0m             \u001b[0mestimator\u001b[0m\u001b[0;34m.\u001b[0m\u001b[0mcleanup\u001b[0m\u001b[0;34m(\u001b[0m\u001b[0;34m)\u001b[0m\u001b[0;34m\u001b[0m\u001b[0;34m\u001b[0m\u001b[0m\n\u001b[0;32m--> 740\u001b[0;31m             val_loss_i, metric_i, train_time_i, pred_time_i = get_val_loss(\n\u001b[0m\u001b[1;32m    741\u001b[0m                 \u001b[0mconfig\u001b[0m\u001b[0;34m,\u001b[0m\u001b[0;34m\u001b[0m\u001b[0;34m\u001b[0m\u001b[0m\n\u001b[1;32m    742\u001b[0m                 \u001b[0mestimator\u001b[0m\u001b[0;34m,\u001b[0m\u001b[0;34m\u001b[0m\u001b[0;34m\u001b[0m\u001b[0m\n",
            "\u001b[0;32m/usr/local/lib/python3.10/dist-packages/flaml/automl/ml.py\u001b[0m in \u001b[0;36mget_val_loss\u001b[0;34m(config, estimator, X_train, y_train, X_val, y_val, weight_val, groups_val, eval_metric, task, labels, budget, log_training_metric, fit_kwargs, free_mem_ratio)\u001b[0m\n\u001b[1;32m    492\u001b[0m     \u001b[0;31m#     fit_kwargs['X_val'] = X_val\u001b[0m\u001b[0;34m\u001b[0m\u001b[0;34m\u001b[0m\u001b[0m\n\u001b[1;32m    493\u001b[0m     \u001b[0;31m#     fit_kwargs['y_val'] = y_val\u001b[0m\u001b[0;34m\u001b[0m\u001b[0;34m\u001b[0m\u001b[0m\n\u001b[0;32m--> 494\u001b[0;31m     \u001b[0mestimator\u001b[0m\u001b[0;34m.\u001b[0m\u001b[0mfit\u001b[0m\u001b[0;34m(\u001b[0m\u001b[0mX_train\u001b[0m\u001b[0;34m,\u001b[0m \u001b[0my_train\u001b[0m\u001b[0;34m,\u001b[0m \u001b[0mbudget\u001b[0m\u001b[0;34m=\u001b[0m\u001b[0mbudget\u001b[0m\u001b[0;34m,\u001b[0m \u001b[0mfree_mem_ratio\u001b[0m\u001b[0;34m=\u001b[0m\u001b[0mfree_mem_ratio\u001b[0m\u001b[0;34m,\u001b[0m \u001b[0;34m**\u001b[0m\u001b[0mfit_kwargs\u001b[0m\u001b[0;34m)\u001b[0m\u001b[0;34m\u001b[0m\u001b[0;34m\u001b[0m\u001b[0m\n\u001b[0m\u001b[1;32m    495\u001b[0m     val_loss, metric_for_logging, pred_time, _ = _eval_estimator(\n\u001b[1;32m    496\u001b[0m         \u001b[0mconfig\u001b[0m\u001b[0;34m,\u001b[0m\u001b[0;34m\u001b[0m\u001b[0;34m\u001b[0m\u001b[0m\n",
            "\u001b[0;32m/usr/local/lib/python3.10/dist-packages/flaml/automl/model.py\u001b[0m in \u001b[0;36mfit\u001b[0;34m(self, X_train, y_train, budget, free_mem_ratio, **kwargs)\u001b[0m\n\u001b[1;32m   1659\u001b[0m             \u001b[0mself\u001b[0m\u001b[0;34m.\u001b[0m\u001b[0mparams\u001b[0m\u001b[0;34m[\u001b[0m\u001b[0;34m\"tree_method\"\u001b[0m\u001b[0;34m]\u001b[0m \u001b[0;34m=\u001b[0m \u001b[0;34m\"gpu_hist\"\u001b[0m\u001b[0;34m\u001b[0m\u001b[0;34m\u001b[0m\u001b[0m\n\u001b[1;32m   1660\u001b[0m             \u001b[0mkwargs\u001b[0m\u001b[0;34m.\u001b[0m\u001b[0mpop\u001b[0m\u001b[0;34m(\u001b[0m\u001b[0;34m\"gpu_per_trial\"\u001b[0m\u001b[0;34m)\u001b[0m\u001b[0;34m\u001b[0m\u001b[0;34m\u001b[0m\u001b[0m\n\u001b[0;32m-> 1661\u001b[0;31m         \u001b[0;32mreturn\u001b[0m \u001b[0msuper\u001b[0m\u001b[0;34m(\u001b[0m\u001b[0;34m)\u001b[0m\u001b[0;34m.\u001b[0m\u001b[0mfit\u001b[0m\u001b[0;34m(\u001b[0m\u001b[0mX_train\u001b[0m\u001b[0;34m,\u001b[0m \u001b[0my_train\u001b[0m\u001b[0;34m,\u001b[0m \u001b[0mbudget\u001b[0m\u001b[0;34m,\u001b[0m \u001b[0mfree_mem_ratio\u001b[0m\u001b[0;34m,\u001b[0m \u001b[0;34m**\u001b[0m\u001b[0mkwargs\u001b[0m\u001b[0;34m)\u001b[0m\u001b[0;34m\u001b[0m\u001b[0;34m\u001b[0m\u001b[0m\n\u001b[0m\u001b[1;32m   1662\u001b[0m \u001b[0;34m\u001b[0m\u001b[0m\n\u001b[1;32m   1663\u001b[0m     \u001b[0;32mdef\u001b[0m \u001b[0m_callbacks\u001b[0m\u001b[0;34m(\u001b[0m\u001b[0mself\u001b[0m\u001b[0;34m,\u001b[0m \u001b[0mstart_time\u001b[0m\u001b[0;34m,\u001b[0m \u001b[0mdeadline\u001b[0m\u001b[0;34m,\u001b[0m \u001b[0mfree_mem_ratio\u001b[0m\u001b[0;34m)\u001b[0m \u001b[0;34m->\u001b[0m \u001b[0mList\u001b[0m\u001b[0;34m[\u001b[0m\u001b[0mCallable\u001b[0m\u001b[0;34m]\u001b[0m\u001b[0;34m:\u001b[0m\u001b[0;34m\u001b[0m\u001b[0;34m\u001b[0m\u001b[0m\n",
            "\u001b[0;32m/usr/local/lib/python3.10/dist-packages/flaml/automl/model.py\u001b[0m in \u001b[0;36mfit\u001b[0;34m(self, X_train, y_train, budget, free_mem_ratio, **kwargs)\u001b[0m\n\u001b[1;32m   1411\u001b[0m                     \u001b[0mself\u001b[0m\u001b[0;34m.\u001b[0m\u001b[0mparams\u001b[0m\u001b[0;34m[\u001b[0m\u001b[0;34m\"callbacks\"\u001b[0m\u001b[0;34m]\u001b[0m \u001b[0;34m=\u001b[0m \u001b[0mcallbacks\u001b[0m\u001b[0;34m\u001b[0m\u001b[0;34m\u001b[0m\u001b[0m\n\u001b[1;32m   1412\u001b[0m                     \u001b[0mcallbacks\u001b[0m \u001b[0;34m=\u001b[0m \u001b[0;32mNone\u001b[0m\u001b[0;34m\u001b[0m\u001b[0;34m\u001b[0m\u001b[0m\n\u001b[0;32m-> 1413\u001b[0;31m             self._fit(\n\u001b[0m\u001b[1;32m   1414\u001b[0m                 \u001b[0mX_train\u001b[0m\u001b[0;34m,\u001b[0m\u001b[0;34m\u001b[0m\u001b[0;34m\u001b[0m\u001b[0m\n\u001b[1;32m   1415\u001b[0m                 \u001b[0my_train\u001b[0m\u001b[0;34m,\u001b[0m\u001b[0;34m\u001b[0m\u001b[0;34m\u001b[0m\u001b[0m\n",
            "\u001b[0;32m/usr/local/lib/python3.10/dist-packages/flaml/automl/model.py\u001b[0m in \u001b[0;36m_fit\u001b[0;34m(self, X_train, y_train, **kwargs)\u001b[0m\n\u001b[1;32m    222\u001b[0m             \u001b[0;31m# xgboost 1.6 doesn't display all the params in the model str\u001b[0m\u001b[0;34m\u001b[0m\u001b[0;34m\u001b[0m\u001b[0m\n\u001b[1;32m    223\u001b[0m             \u001b[0mlogger\u001b[0m\u001b[0;34m.\u001b[0m\u001b[0mdebug\u001b[0m\u001b[0;34m(\u001b[0m\u001b[0;34mf\"flaml.automl.model - {model} fit started with params {self.params}\"\u001b[0m\u001b[0;34m)\u001b[0m\u001b[0;34m\u001b[0m\u001b[0;34m\u001b[0m\u001b[0m\n\u001b[0;32m--> 224\u001b[0;31m         \u001b[0mmodel\u001b[0m\u001b[0;34m.\u001b[0m\u001b[0mfit\u001b[0m\u001b[0;34m(\u001b[0m\u001b[0mX_train\u001b[0m\u001b[0;34m,\u001b[0m \u001b[0my_train\u001b[0m\u001b[0;34m,\u001b[0m \u001b[0;34m**\u001b[0m\u001b[0mkwargs\u001b[0m\u001b[0;34m)\u001b[0m\u001b[0;34m\u001b[0m\u001b[0;34m\u001b[0m\u001b[0m\n\u001b[0m\u001b[1;32m    225\u001b[0m         \u001b[0;32mif\u001b[0m \u001b[0mlogger\u001b[0m\u001b[0;34m.\u001b[0m\u001b[0mlevel\u001b[0m \u001b[0;34m==\u001b[0m \u001b[0mlogging\u001b[0m\u001b[0;34m.\u001b[0m\u001b[0mDEBUG\u001b[0m\u001b[0;34m:\u001b[0m\u001b[0;34m\u001b[0m\u001b[0;34m\u001b[0m\u001b[0m\n\u001b[1;32m    226\u001b[0m             \u001b[0mlogger\u001b[0m\u001b[0;34m.\u001b[0m\u001b[0mdebug\u001b[0m\u001b[0;34m(\u001b[0m\u001b[0;34mf\"flaml.automl.model - {model} fit finished\"\u001b[0m\u001b[0;34m)\u001b[0m\u001b[0;34m\u001b[0m\u001b[0;34m\u001b[0m\u001b[0m\n",
            "\u001b[0;32m/usr/local/lib/python3.10/dist-packages/xgboost/core.py\u001b[0m in \u001b[0;36minner_f\u001b[0;34m(*args, **kwargs)\u001b[0m\n\u001b[1;32m    728\u001b[0m             \u001b[0;32mfor\u001b[0m \u001b[0mk\u001b[0m\u001b[0;34m,\u001b[0m \u001b[0marg\u001b[0m \u001b[0;32min\u001b[0m \u001b[0mzip\u001b[0m\u001b[0;34m(\u001b[0m\u001b[0msig\u001b[0m\u001b[0;34m.\u001b[0m\u001b[0mparameters\u001b[0m\u001b[0;34m,\u001b[0m \u001b[0margs\u001b[0m\u001b[0;34m)\u001b[0m\u001b[0;34m:\u001b[0m\u001b[0;34m\u001b[0m\u001b[0;34m\u001b[0m\u001b[0m\n\u001b[1;32m    729\u001b[0m                 \u001b[0mkwargs\u001b[0m\u001b[0;34m[\u001b[0m\u001b[0mk\u001b[0m\u001b[0;34m]\u001b[0m \u001b[0;34m=\u001b[0m \u001b[0marg\u001b[0m\u001b[0;34m\u001b[0m\u001b[0;34m\u001b[0m\u001b[0m\n\u001b[0;32m--> 730\u001b[0;31m             \u001b[0;32mreturn\u001b[0m \u001b[0mfunc\u001b[0m\u001b[0;34m(\u001b[0m\u001b[0;34m**\u001b[0m\u001b[0mkwargs\u001b[0m\u001b[0;34m)\u001b[0m\u001b[0;34m\u001b[0m\u001b[0;34m\u001b[0m\u001b[0m\n\u001b[0m\u001b[1;32m    731\u001b[0m \u001b[0;34m\u001b[0m\u001b[0m\n\u001b[1;32m    732\u001b[0m         \u001b[0;32mreturn\u001b[0m \u001b[0minner_f\u001b[0m\u001b[0;34m\u001b[0m\u001b[0;34m\u001b[0m\u001b[0m\n",
            "\u001b[0;32m/usr/local/lib/python3.10/dist-packages/xgboost/sklearn.py\u001b[0m in \u001b[0;36mfit\u001b[0;34m(self, X, y, sample_weight, base_margin, eval_set, eval_metric, early_stopping_rounds, verbose, xgb_model, sample_weight_eval_set, base_margin_eval_set, feature_weights, callbacks)\u001b[0m\n\u001b[1;32m   1517\u001b[0m             )\n\u001b[1;32m   1518\u001b[0m \u001b[0;34m\u001b[0m\u001b[0m\n\u001b[0;32m-> 1519\u001b[0;31m             self._Booster = train(\n\u001b[0m\u001b[1;32m   1520\u001b[0m                 \u001b[0mparams\u001b[0m\u001b[0;34m,\u001b[0m\u001b[0;34m\u001b[0m\u001b[0;34m\u001b[0m\u001b[0m\n\u001b[1;32m   1521\u001b[0m                 \u001b[0mtrain_dmatrix\u001b[0m\u001b[0;34m,\u001b[0m\u001b[0;34m\u001b[0m\u001b[0;34m\u001b[0m\u001b[0m\n",
            "\u001b[0;32m/usr/local/lib/python3.10/dist-packages/xgboost/core.py\u001b[0m in \u001b[0;36minner_f\u001b[0;34m(*args, **kwargs)\u001b[0m\n\u001b[1;32m    728\u001b[0m             \u001b[0;32mfor\u001b[0m \u001b[0mk\u001b[0m\u001b[0;34m,\u001b[0m \u001b[0marg\u001b[0m \u001b[0;32min\u001b[0m \u001b[0mzip\u001b[0m\u001b[0;34m(\u001b[0m\u001b[0msig\u001b[0m\u001b[0;34m.\u001b[0m\u001b[0mparameters\u001b[0m\u001b[0;34m,\u001b[0m \u001b[0margs\u001b[0m\u001b[0;34m)\u001b[0m\u001b[0;34m:\u001b[0m\u001b[0;34m\u001b[0m\u001b[0;34m\u001b[0m\u001b[0m\n\u001b[1;32m    729\u001b[0m                 \u001b[0mkwargs\u001b[0m\u001b[0;34m[\u001b[0m\u001b[0mk\u001b[0m\u001b[0;34m]\u001b[0m \u001b[0;34m=\u001b[0m \u001b[0marg\u001b[0m\u001b[0;34m\u001b[0m\u001b[0;34m\u001b[0m\u001b[0m\n\u001b[0;32m--> 730\u001b[0;31m             \u001b[0;32mreturn\u001b[0m \u001b[0mfunc\u001b[0m\u001b[0;34m(\u001b[0m\u001b[0;34m**\u001b[0m\u001b[0mkwargs\u001b[0m\u001b[0;34m)\u001b[0m\u001b[0;34m\u001b[0m\u001b[0;34m\u001b[0m\u001b[0m\n\u001b[0m\u001b[1;32m    731\u001b[0m \u001b[0;34m\u001b[0m\u001b[0m\n\u001b[1;32m    732\u001b[0m         \u001b[0;32mreturn\u001b[0m \u001b[0minner_f\u001b[0m\u001b[0;34m\u001b[0m\u001b[0;34m\u001b[0m\u001b[0m\n",
            "\u001b[0;32m/usr/local/lib/python3.10/dist-packages/xgboost/training.py\u001b[0m in \u001b[0;36mtrain\u001b[0;34m(params, dtrain, num_boost_round, evals, obj, feval, maximize, early_stopping_rounds, evals_result, verbose_eval, xgb_model, callbacks, custom_metric)\u001b[0m\n\u001b[1;32m    179\u001b[0m         \u001b[0;32mif\u001b[0m \u001b[0mcb_container\u001b[0m\u001b[0;34m.\u001b[0m\u001b[0mbefore_iteration\u001b[0m\u001b[0;34m(\u001b[0m\u001b[0mbst\u001b[0m\u001b[0;34m,\u001b[0m \u001b[0mi\u001b[0m\u001b[0;34m,\u001b[0m \u001b[0mdtrain\u001b[0m\u001b[0;34m,\u001b[0m \u001b[0mevals\u001b[0m\u001b[0;34m)\u001b[0m\u001b[0;34m:\u001b[0m\u001b[0;34m\u001b[0m\u001b[0;34m\u001b[0m\u001b[0m\n\u001b[1;32m    180\u001b[0m             \u001b[0;32mbreak\u001b[0m\u001b[0;34m\u001b[0m\u001b[0;34m\u001b[0m\u001b[0m\n\u001b[0;32m--> 181\u001b[0;31m         \u001b[0mbst\u001b[0m\u001b[0;34m.\u001b[0m\u001b[0mupdate\u001b[0m\u001b[0;34m(\u001b[0m\u001b[0mdtrain\u001b[0m\u001b[0;34m,\u001b[0m \u001b[0mi\u001b[0m\u001b[0;34m,\u001b[0m \u001b[0mobj\u001b[0m\u001b[0;34m)\u001b[0m\u001b[0;34m\u001b[0m\u001b[0;34m\u001b[0m\u001b[0m\n\u001b[0m\u001b[1;32m    182\u001b[0m         \u001b[0;32mif\u001b[0m \u001b[0mcb_container\u001b[0m\u001b[0;34m.\u001b[0m\u001b[0mafter_iteration\u001b[0m\u001b[0;34m(\u001b[0m\u001b[0mbst\u001b[0m\u001b[0;34m,\u001b[0m \u001b[0mi\u001b[0m\u001b[0;34m,\u001b[0m \u001b[0mdtrain\u001b[0m\u001b[0;34m,\u001b[0m \u001b[0mevals\u001b[0m\u001b[0;34m)\u001b[0m\u001b[0;34m:\u001b[0m\u001b[0;34m\u001b[0m\u001b[0;34m\u001b[0m\u001b[0m\n\u001b[1;32m    183\u001b[0m             \u001b[0;32mbreak\u001b[0m\u001b[0;34m\u001b[0m\u001b[0;34m\u001b[0m\u001b[0m\n",
            "\u001b[0;32m/usr/local/lib/python3.10/dist-packages/xgboost/core.py\u001b[0m in \u001b[0;36mupdate\u001b[0;34m(self, dtrain, iteration, fobj)\u001b[0m\n\u001b[1;32m   2049\u001b[0m         \u001b[0;32mif\u001b[0m \u001b[0mfobj\u001b[0m \u001b[0;32mis\u001b[0m \u001b[0;32mNone\u001b[0m\u001b[0;34m:\u001b[0m\u001b[0;34m\u001b[0m\u001b[0;34m\u001b[0m\u001b[0m\n\u001b[1;32m   2050\u001b[0m             _check_call(\n\u001b[0;32m-> 2051\u001b[0;31m                 _LIB.XGBoosterUpdateOneIter(\n\u001b[0m\u001b[1;32m   2052\u001b[0m                     \u001b[0mself\u001b[0m\u001b[0;34m.\u001b[0m\u001b[0mhandle\u001b[0m\u001b[0;34m,\u001b[0m \u001b[0mctypes\u001b[0m\u001b[0;34m.\u001b[0m\u001b[0mc_int\u001b[0m\u001b[0;34m(\u001b[0m\u001b[0miteration\u001b[0m\u001b[0;34m)\u001b[0m\u001b[0;34m,\u001b[0m \u001b[0mdtrain\u001b[0m\u001b[0;34m.\u001b[0m\u001b[0mhandle\u001b[0m\u001b[0;34m\u001b[0m\u001b[0;34m\u001b[0m\u001b[0m\n\u001b[1;32m   2053\u001b[0m                 )\n",
            "\u001b[0;31mKeyboardInterrupt\u001b[0m: "
          ]
        }
      ]
    },
    {
      "cell_type": "markdown",
      "source": [
        "# Part B - * Use Random Forest\n",
        "\n",
        "Using random forest to make prediction (Run this block to obtain part b prediction)"
      ],
      "metadata": {
        "id": "1oy_1s300UnX"
      }
    },
    {
      "cell_type": "code",
      "source": [
        "# Install required Library\n",
        "!pip install scikit-optimize\n",
        "!pip install flaml\n",
        "!pip install xgboost\n",
        "# Import the required libraries\n",
        "from sklearn.model_selection import train_test_split\n",
        "from sklearn.metrics import accuracy_score, precision_score, recall_score, f1_score, confusion_matrix\n",
        "from sklearn.preprocessing import StandardScaler\n",
        "from sklearn.model_selection import cross_val_score\n",
        "from sklearn.ensemble import RandomForestClassifier\n",
        "from flaml import AutoML\n",
        "\n",
        "import numpy as np\n",
        "import pandas as pd\n",
        "\n",
        "# Load dataset\n",
        "# train_data_multi = pd.read_csv('https://raw.githubusercontent.com/CHITANDAy/3217/main/TrainingDataMulti.csv')\n",
        "# test_data_multi = pd.read_csv('https://raw.githubusercontent.com/CHITANDAy/3217/main/TestingDataMulti.csv')\n",
        "train_data_multi = pd.read_csv('/content/TrainingDataMulti.csv')\n",
        "test_data_multi = pd.read_csv('/content/TestingDataMulti.csv')\n",
        "\n",
        "# Separate features and labels\n",
        "X = train_data_multi.iloc[:, :-1]\n",
        "Y = train_data_multi.iloc[:, -1]\n",
        "\n",
        "# Standardize the data\n",
        "scaler = StandardScaler()\n",
        "X_scaled_multi = scaler.fit_transform(X)\n",
        "\n",
        "# Split the data\n",
        "X_train_multi, X_test_multi, y_train_multi, y_test_multi = train_test_split(X_scaled_multi, Y, test_size=0.2, random_state=30)\n",
        "\n",
        "# Randomforest Training\n",
        "randomforest = RandomForestClassifier(\n",
        "    n_estimators=218,\n",
        "    max_features =0.08838834764831843,\n",
        "    max_leaf_nodes = 2052,\n",
        "    criterion = 'gini',\n",
        ")\n",
        "randomforest.fit(X_train_multi, y_train_multi)\n",
        "\n",
        "# Validation\n",
        "y_pred_multi = randomforest.predict(X_test_multi)\n",
        "accuracy = accuracy_score(y_test_multi, y_pred_multi)\n",
        "\n",
        "\n",
        "print(\"Accuracy: \", accuracy)\n",
        "\n",
        "\n",
        "# Output the Prediction outcome for testing dataset\n",
        "# Standardize the test dataset\n",
        "X_test_scaled_multi = scaler.transform(test_data_multi)\n",
        "\n",
        "# Make Prediction and Output the outcome\n",
        "test_pred_multi = randomforest.predict(X_test_scaled_multi)\n",
        "test_data_multi['marker'] = test_pred_multi\n",
        "test_data_multi.to_csv('/content/TestingResultsMulti.csv', index=False)"
      ],
      "metadata": {
        "id": "9U70aFw_rriT",
        "colab": {
          "base_uri": "https://localhost:8080/"
        },
        "outputId": "59290a89-046a-44e1-cf24-a235637a483d"
      },
      "execution_count": null,
      "outputs": [
        {
          "output_type": "stream",
          "name": "stdout",
          "text": [
            "Requirement already satisfied: scikit-optimize in /usr/local/lib/python3.10/dist-packages (0.10.1)\n",
            "Requirement already satisfied: joblib>=0.11 in /usr/local/lib/python3.10/dist-packages (from scikit-optimize) (1.4.0)\n",
            "Requirement already satisfied: pyaml>=16.9 in /usr/local/lib/python3.10/dist-packages (from scikit-optimize) (24.4.0)\n",
            "Requirement already satisfied: numpy>=1.20.3 in /usr/local/lib/python3.10/dist-packages (from scikit-optimize) (1.25.2)\n",
            "Requirement already satisfied: scipy>=1.1.0 in /usr/local/lib/python3.10/dist-packages (from scikit-optimize) (1.11.4)\n",
            "Requirement already satisfied: scikit-learn>=1.0.0 in /usr/local/lib/python3.10/dist-packages (from scikit-optimize) (1.2.2)\n",
            "Requirement already satisfied: packaging>=21.3 in /usr/local/lib/python3.10/dist-packages (from scikit-optimize) (24.0)\n",
            "Requirement already satisfied: PyYAML in /usr/local/lib/python3.10/dist-packages (from pyaml>=16.9->scikit-optimize) (6.0.1)\n",
            "Requirement already satisfied: threadpoolctl>=2.0.0 in /usr/local/lib/python3.10/dist-packages (from scikit-learn>=1.0.0->scikit-optimize) (3.5.0)\n",
            "Requirement already satisfied: flaml in /usr/local/lib/python3.10/dist-packages (2.1.2)\n",
            "Requirement already satisfied: NumPy>=1.17 in /usr/local/lib/python3.10/dist-packages (from flaml) (1.25.2)\n",
            "Requirement already satisfied: xgboost in /usr/local/lib/python3.10/dist-packages (2.0.3)\n",
            "Requirement already satisfied: numpy in /usr/local/lib/python3.10/dist-packages (from xgboost) (1.25.2)\n",
            "Requirement already satisfied: scipy in /usr/local/lib/python3.10/dist-packages (from xgboost) (1.11.4)\n",
            "Accuracy:  0.9466666666666667\n"
          ]
        }
      ]
    },
    {
      "cell_type": "markdown",
      "source": [
        "# Optimization Method for Random Forest (not need to execute this code block)"
      ],
      "metadata": {
        "id": "9SpeLQZm9SdV"
      }
    },
    {
      "cell_type": "code",
      "source": [
        "# Install required Library\n",
        "!pip install scikit-optimize\n",
        "!pip install flaml\n",
        "# Import the required libraries\n",
        "from sklearn.model_selection import train_test_split\n",
        "from sklearn.metrics import accuracy_score, precision_score, recall_score, f1_score, confusion_matrix\n",
        "from sklearn.preprocessing import StandardScaler\n",
        "from sklearn.model_selection import cross_val_score\n",
        "from sklearn.ensemble import RandomForestClassifier\n",
        "from flaml import AutoML\n",
        "import numpy as np\n",
        "import pandas as pd\n",
        "\n",
        "\n",
        "autorf = AutoML()\n",
        "\n",
        "# Load dataset\n",
        "# train_data_multi = pd.read_csv('https://raw.githubusercontent.com/CHITANDAy/3217/main/TrainingDataMulti.csv')\n",
        "# test_data_multi = pd.read_csv('https://raw.githubusercontent.com/CHITANDAy/3217/main/TestingDataMulti.csv')\n",
        "train_data_multi = pd.read_csv('/content/TrainingDataMulti.csv')\n",
        "test_data_multi = pd.read_csv('/content/TestingDataMulti.csv')\n",
        "\n",
        "# Separate features and labels\n",
        "X = train_data_multi.iloc[:, :-1]\n",
        "Y = train_data_multi.iloc[:, -1]\n",
        "\n",
        "# Standardize the data\n",
        "scaler = StandardScaler()\n",
        "X_scaled_multi = scaler.fit_transform(X)\n",
        "\n",
        "# Split the data\n",
        "X_train_multi, X_test_multi, y_train_multi, y_test_multi = train_test_split(X_scaled_multi, Y, test_size=0.2, random_state=30)\n",
        "\n",
        "# Parameters\n",
        "params = {\n",
        "    \"time_budget\": 10000,     # Running Time in second 10000 secs\n",
        "    \"metric\": 'accuracy',     # Optimization by accuracy\n",
        "    \"task\": 'classification',   # Task Type\n",
        "    \"estimator_list\": [\"rf\"],   # Specify the model as Random Forest\n",
        "    \"seed\": 478914\n",
        "}\n",
        "\n",
        "autorf.fit(X_train_multi, y_train_multi, **params)\n",
        "\n",
        "print('Best hyperparmeter: ', autorf.best_config)\n",
        "print('Accuracy: {0:.4g}'.format(1 - autorf.best_loss))"
      ],
      "metadata": {
        "colab": {
          "base_uri": "https://localhost:8080/"
        },
        "id": "UcJd8qkLsnmJ",
        "outputId": "bd081949-c9cf-4027-bcba-e1ecd0b13fd4"
      },
      "execution_count": null,
      "outputs": [
        {
          "output_type": "stream",
          "name": "stdout",
          "text": [
            "Requirement already satisfied: scikit-optimize in /usr/local/lib/python3.10/dist-packages (0.10.1)\n",
            "Requirement already satisfied: joblib>=0.11 in /usr/local/lib/python3.10/dist-packages (from scikit-optimize) (1.4.0)\n",
            "Requirement already satisfied: pyaml>=16.9 in /usr/local/lib/python3.10/dist-packages (from scikit-optimize) (24.4.0)\n",
            "Requirement already satisfied: numpy>=1.20.3 in /usr/local/lib/python3.10/dist-packages (from scikit-optimize) (1.25.2)\n",
            "Requirement already satisfied: scipy>=1.1.0 in /usr/local/lib/python3.10/dist-packages (from scikit-optimize) (1.11.4)\n",
            "Requirement already satisfied: scikit-learn>=1.0.0 in /usr/local/lib/python3.10/dist-packages (from scikit-optimize) (1.2.2)\n",
            "Requirement already satisfied: packaging>=21.3 in /usr/local/lib/python3.10/dist-packages (from scikit-optimize) (24.0)\n",
            "Requirement already satisfied: PyYAML in /usr/local/lib/python3.10/dist-packages (from pyaml>=16.9->scikit-optimize) (6.0.1)\n",
            "Requirement already satisfied: threadpoolctl>=2.0.0 in /usr/local/lib/python3.10/dist-packages (from scikit-learn>=1.0.0->scikit-optimize) (3.5.0)\n",
            "Requirement already satisfied: flaml in /usr/local/lib/python3.10/dist-packages (2.1.2)\n",
            "Requirement already satisfied: NumPy>=1.17 in /usr/local/lib/python3.10/dist-packages (from flaml) (1.25.2)\n",
            "[flaml.automl.logger: 05-07 12:54:30] {1680} INFO - task = classification\n",
            "[flaml.automl.logger: 05-07 12:54:30] {1691} INFO - Evaluation method: cv\n",
            "[flaml.automl.logger: 05-07 12:54:30] {1789} INFO - Minimizing error metric: 1-accuracy\n",
            "[flaml.automl.logger: 05-07 12:54:30] {1901} INFO - List of ML learners in AutoML Run: ['rf']\n",
            "[flaml.automl.logger: 05-07 12:54:30] {2219} INFO - iteration 0, current learner rf\n",
            "[flaml.automl.logger: 05-07 12:54:31] {2345} INFO - Estimated sufficient time budget=9294s. Estimated necessary time budget=9s.\n",
            "[flaml.automl.logger: 05-07 12:54:31] {2392} INFO -  at 1.0s,\testimator rf's best error=0.5015,\tbest estimator rf's best error=0.5015\n",
            "[flaml.automl.logger: 05-07 12:54:31] {2219} INFO - iteration 1, current learner rf\n",
            "[flaml.automl.logger: 05-07 12:54:32] {2392} INFO -  at 2.2s,\testimator rf's best error=0.3615,\tbest estimator rf's best error=0.3615\n",
            "[flaml.automl.logger: 05-07 12:54:32] {2219} INFO - iteration 2, current learner rf\n",
            "[flaml.automl.logger: 05-07 12:54:33] {2392} INFO -  at 2.7s,\testimator rf's best error=0.3615,\tbest estimator rf's best error=0.3615\n",
            "[flaml.automl.logger: 05-07 12:54:33] {2219} INFO - iteration 3, current learner rf\n",
            "[flaml.automl.logger: 05-07 12:54:34] {2392} INFO -  at 3.7s,\testimator rf's best error=0.3187,\tbest estimator rf's best error=0.3187\n",
            "[flaml.automl.logger: 05-07 12:54:34] {2219} INFO - iteration 4, current learner rf\n",
            "[flaml.automl.logger: 05-07 12:54:35] {2392} INFO -  at 5.2s,\testimator rf's best error=0.3187,\tbest estimator rf's best error=0.3187\n",
            "[flaml.automl.logger: 05-07 12:54:35] {2219} INFO - iteration 5, current learner rf\n",
            "[flaml.automl.logger: 05-07 12:54:37] {2392} INFO -  at 6.8s,\testimator rf's best error=0.3187,\tbest estimator rf's best error=0.3187\n",
            "[flaml.automl.logger: 05-07 12:54:37] {2219} INFO - iteration 6, current learner rf\n",
            "[flaml.automl.logger: 05-07 12:54:39] {2392} INFO -  at 9.6s,\testimator rf's best error=0.2492,\tbest estimator rf's best error=0.2492\n",
            "[flaml.automl.logger: 05-07 12:54:39] {2219} INFO - iteration 7, current learner rf\n",
            "[flaml.automl.logger: 05-07 12:54:40] {2392} INFO -  at 10.0s,\testimator rf's best error=0.2492,\tbest estimator rf's best error=0.2492\n",
            "[flaml.automl.logger: 05-07 12:54:40] {2219} INFO - iteration 8, current learner rf\n",
            "[flaml.automl.logger: 05-07 12:54:43] {2392} INFO -  at 13.2s,\testimator rf's best error=0.2198,\tbest estimator rf's best error=0.2198\n",
            "[flaml.automl.logger: 05-07 12:54:43] {2219} INFO - iteration 9, current learner rf\n",
            "[flaml.automl.logger: 05-07 12:54:44] {2392} INFO -  at 14.6s,\testimator rf's best error=0.1471,\tbest estimator rf's best error=0.1471\n",
            "[flaml.automl.logger: 05-07 12:54:44] {2219} INFO - iteration 10, current learner rf\n",
            "[flaml.automl.logger: 05-07 12:54:47] {2392} INFO -  at 17.2s,\testimator rf's best error=0.1471,\tbest estimator rf's best error=0.1471\n",
            "[flaml.automl.logger: 05-07 12:54:47] {2219} INFO - iteration 11, current learner rf\n",
            "[flaml.automl.logger: 05-07 12:54:48] {2392} INFO -  at 18.5s,\testimator rf's best error=0.1471,\tbest estimator rf's best error=0.1471\n",
            "[flaml.automl.logger: 05-07 12:54:48] {2219} INFO - iteration 12, current learner rf\n",
            "[flaml.automl.logger: 05-07 12:54:50] {2392} INFO -  at 20.2s,\testimator rf's best error=0.1471,\tbest estimator rf's best error=0.1471\n",
            "[flaml.automl.logger: 05-07 12:54:50] {2219} INFO - iteration 13, current learner rf\n",
            "[flaml.automl.logger: 05-07 12:54:51] {2392} INFO -  at 21.6s,\testimator rf's best error=0.1471,\tbest estimator rf's best error=0.1471\n",
            "[flaml.automl.logger: 05-07 12:54:51] {2219} INFO - iteration 14, current learner rf\n",
            "[flaml.automl.logger: 05-07 12:54:54] {2392} INFO -  at 23.9s,\testimator rf's best error=0.1154,\tbest estimator rf's best error=0.1154\n",
            "[flaml.automl.logger: 05-07 12:54:54] {2219} INFO - iteration 15, current learner rf\n"
          ]
        }
      ]
    }
  ]
}